{
 "cells": [
  {
   "cell_type": "markdown",
   "metadata": {},
   "source": [
    "# Discussion 7\n",
    "\n",
    "### Due Friday Nov 8, 11:59:59PM\n",
    "\n",
    "\n"
   ]
  },
  {
   "cell_type": "markdown",
   "metadata": {},
   "source": [
    "---\n",
    "\n",
    "## Lecture Review"
   ]
  },
  {
   "cell_type": "code",
   "execution_count": 1,
   "metadata": {},
   "outputs": [],
   "source": [
    "# import libraries\n",
    "import pandas as pd\n",
    "import numpy as np\n",
    "import os\n"
   ]
  },
  {
   "cell_type": "markdown",
   "metadata": {},
   "source": [
    "# Lecture Review: HTTP Requests and HTML\n",
    "\n",
    "### Requests\n",
    "\n",
    "* HTTP requests can retrieve data using `GET` requests.\n",
    "* The python function `resp = requests.get(url)` returns a response object:\n",
    "    - `resp.text` contains the body of the response (e.g. HTML)\n",
    "    - `resp.status_code` contains the status code of the response (e.g. 200, which means 'ok')\n",
    "    - `resp.body` contains the entire response content.\n",
    "    \n",
    "### Parsing HTML\n",
    "\n",
    "* An HTML page may be described as a tree (Document Object Model)\n",
    "    - The nodes are HTML tags that define regions in the page (i.e. `<tag>...</tag>`).\n",
    "    - Two nodes are connected by an edge if one HTML tag is nested in the other.\n",
    "    - The sub-tree of below a given node (HTML tag) consists of the portion of the HTML page contained within that HTML tag.\n",
    "* `BeautifulSoup` parses an HTML document into its DOM (tree structure).\n",
    "    - `.children` attribute of a node iterates through the sub-trees of the DOM.\n",
    "    - `.find(tag)` method selects the sub-tree of the DOM that contains the specified tag-type.\n",
    "    - `.attr` accesses the attributes of a given tag (e.g. the hyperlink reference).\n",
    "    - `.text` accesses the text between the start (`<tag>`) and end (`</tag>`) tags for a given node."
   ]
  },
  {
   "cell_type": "markdown",
   "metadata": {},
   "source": [
    "# Parsing Countries\n",
    "\n",
    "\n",
    "In this question you need to scrape the website `http://example.webscraping.com/` and collect all the countries countries listed on the site (not just the first page). \n",
    "\n",
    "*Side note:* We saw in the lecture that there is a method `pd.read_html` that allows you to read HTML tables into a list of DataFrame objects. You can test it out but please **DO NOT** use it in your solution. The purpose of this problem is for you to practice scraping using simple tags first, before you move on to more difficult problems. \n",
    "\n",
    "### The Plan\n",
    "\n",
    "To get this information of the website, you'll go through the following steps:\n",
    "1. Write a function to *sucessfully* request the website content of a single page.\n",
    "1. Write a function to request the content of all relevant pages.\n",
    "1. Write a function to parse the HTML and extract the countries of an already-requested page.\n",
    "1. Put it all together.\n",
    "\n",
    "Remember, you should always make as few requests as possible. For example, when developing your parsing logic, you should work with a single successful request already on your computer -- don't request the content from the website repeatedly! Breaking your work up into function as specified below will help you do this."
   ]
  },
  {
   "cell_type": "markdown",
   "metadata": {},
   "source": [
    "**Step 1**: Check the website first, count the number of pages you need to go over, look at the URL of each page. Write a list of URLs that you need to request (find a pattern and use code; do not copy and paste)."
   ]
  },
  {
   "cell_type": "code",
   "execution_count": null,
   "metadata": {},
   "outputs": [],
   "source": [
    "url_list= ..."
   ]
  },
  {
   "cell_type": "markdown",
   "metadata": {},
   "source": [
    "**Step 2:** Once you have an idea how the site works, you can start sending requests to the pages and collect results. Loop through the `url_list`, requesting each page, and collect the HTTP responses in a list."
   ]
  },
  {
   "cell_type": "code",
   "execution_count": null,
   "metadata": {},
   "outputs": [],
   "source": []
  },
  {
   "cell_type": "code",
   "execution_count": null,
   "metadata": {},
   "outputs": [],
   "source": []
  },
  {
   "cell_type": "code",
   "execution_count": null,
   "metadata": {},
   "outputs": [],
   "source": []
  },
  {
   "cell_type": "markdown",
   "metadata": {},
   "source": [
    "**Step 3:** What happens when you try execute the loop above? Why do you get an exception? You need to modify your code to both (1) handle these exceptions and (2) still collect all the data on the website(s).\n",
    "\n",
    "To do this, create a function `request_until_successful` that takes in a `url` (and any optional keywords you might find useful) and the number of re-try requests the function will attempt `N` and returns a *successful* response object (or `None` if the request was still not successful after `N` attempts).\n",
    "\n",
    "*Remark 1:* Your retry logic should effectively allow you to successfully request data from the site in the shortest time possible!\n",
    "\n",
    "*Remark 2:* remember your status-codes!"
   ]
  },
  {
   "cell_type": "code",
   "execution_count": null,
   "metadata": {},
   "outputs": [],
   "source": [
    "def request_until_successful(url, N):\n",
    "    ...\n",
    "    return ..."
   ]
  },
  {
   "cell_type": "code",
   "execution_count": null,
   "metadata": {},
   "outputs": [],
   "source": []
  },
  {
   "cell_type": "code",
   "execution_count": null,
   "metadata": {},
   "outputs": [],
   "source": []
  },
  {
   "cell_type": "markdown",
   "metadata": {},
   "source": [
    "**Step 4:** Write a function `get_responses` that takes in `url_list` and returns the successful responses to each request made from the `url_list`."
   ]
  },
  {
   "cell_type": "code",
   "execution_count": null,
   "metadata": {},
   "outputs": [],
   "source": [
    "def get_responses(url_list):\n",
    "    \n",
    "    return ..."
   ]
  },
  {
   "cell_type": "code",
   "execution_count": null,
   "metadata": {},
   "outputs": [],
   "source": []
  },
  {
   "cell_type": "markdown",
   "metadata": {},
   "source": [
    "**Step 5:** Write a function `parse_page` that takes in http-request response object and returns the countries listed on the page. Write a function `parse_pages` that takes in a list of response objects and returns all the countries listed on all the pages.\n",
    "\n",
    "*Remark:* Make sure to check the source page of the website in order to find appropriate tags for you to use during the scraping.\n"
   ]
  },
  {
   "cell_type": "code",
   "execution_count": null,
   "metadata": {},
   "outputs": [],
   "source": [
    "def parse_page(resp):\n",
    "    \n",
    "    return ...\n"
   ]
  },
  {
   "cell_type": "code",
   "execution_count": null,
   "metadata": {},
   "outputs": [],
   "source": []
  },
  {
   "cell_type": "code",
   "execution_count": null,
   "metadata": {},
   "outputs": [],
   "source": []
  },
  {
   "cell_type": "code",
   "execution_count": null,
   "metadata": {},
   "outputs": [],
   "source": []
  },
  {
   "cell_type": "code",
   "execution_count": null,
   "metadata": {},
   "outputs": [],
   "source": [
    "def parse_pages(resps):\n",
    "    \n",
    "    return ..."
   ]
  },
  {
   "cell_type": "code",
   "execution_count": null,
   "metadata": {},
   "outputs": [],
   "source": []
  },
  {
   "cell_type": "code",
   "execution_count": null,
   "metadata": {},
   "outputs": [],
   "source": []
  },
  {
   "cell_type": "code",
   "execution_count": null,
   "metadata": {},
   "outputs": [],
   "source": []
  },
  {
   "cell_type": "markdown",
   "metadata": {},
   "source": [
    "**Step 6:** Write a function `get_countries` of zero variables that puts all of this together and returns the list of countries found on all the pages."
   ]
  },
  {
   "cell_type": "code",
   "execution_count": null,
   "metadata": {},
   "outputs": [],
   "source": [
    "def get_countries():\n",
    "    \n",
    "    return ..."
   ]
  },
  {
   "cell_type": "code",
   "execution_count": null,
   "metadata": {},
   "outputs": [],
   "source": []
  },
  {
   "cell_type": "code",
   "execution_count": null,
   "metadata": {},
   "outputs": [],
   "source": []
  },
  {
   "cell_type": "code",
   "execution_count": null,
   "metadata": {},
   "outputs": [],
   "source": []
  },
  {
   "cell_type": "markdown",
   "metadata": {},
   "source": [
    "---\n",
    "# Practice Problems\n",
    "\n",
    "**Turn in the first two functions from the steps above**"
   ]
  },
  {
   "cell_type": "code",
   "execution_count": null,
   "metadata": {},
   "outputs": [],
   "source": []
  },
  {
   "cell_type": "code",
   "execution_count": null,
   "metadata": {},
   "outputs": [],
   "source": []
  }
 ],
 "metadata": {
  "kernelspec": {
   "display_name": "Python 3",
   "language": "python",
   "name": "python3"
  },
  "language_info": {
   "codemirror_mode": {
    "name": "ipython",
    "version": 3
   },
   "file_extension": ".py",
   "mimetype": "text/x-python",
   "name": "python",
   "nbconvert_exporter": "python",
   "pygments_lexer": "ipython3",
   "version": "3.7.4"
  }
 },
 "nbformat": 4,
 "nbformat_minor": 2
}
