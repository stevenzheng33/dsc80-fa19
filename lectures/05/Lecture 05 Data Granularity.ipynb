{
 "cells": [
  {
   "cell_type": "code",
   "execution_count": null,
   "metadata": {
    "slideshow": {
     "slide_type": "skip"
    }
   },
   "outputs": [],
   "source": [
    "import pandas as pd\n",
    "import numpy as np"
   ]
  },
  {
   "cell_type": "markdown",
   "metadata": {
    "slideshow": {
     "slide_type": "slide"
    }
   },
   "source": [
    "# From Questions to Code\n",
    "\n",
    "### Understanding data granularity"
   ]
  },
  {
   "cell_type": "markdown",
   "metadata": {
    "slideshow": {
     "slide_type": "slide"
    }
   },
   "source": [
    "## Announcements\n",
    "* On-line Tutorials: Exercise Caution!\n",
    "* Project Checkpoint Due Tonight.\n",
    "* Questions about project wording.\n",
    "* SettingWithCopy Example."
   ]
  },
  {
   "cell_type": "markdown",
   "metadata": {
    "slideshow": {
     "slide_type": "slide"
    }
   },
   "source": [
    "## Data Granularity: What is an Individual?\n",
    "\n",
    "<div class=\"image-txt-container\">\n",
    "\n",
    "- Tables consist of:\n",
    "    - rows (individuals)\n",
    "    - columns (measurements)\n",
    "\n",
    "\n",
    "|Name|State|Color|Food|Date of Survey|\n",
    "|---|---|---|---|---|\n",
    "|Jane|NY|blue|Steak|2018|\n",
    "|Aaron|CA|red|Mango|2017|\n",
    "|Marina|IL|green|Apple|2015|\n",
    "|...|...|...|...|...|\n",
    "\n",
    "</div>    \n",
    "\n",
    "What is an individual? A person? A survey response?\n"
   ]
  },
  {
   "cell_type": "markdown",
   "metadata": {
    "slideshow": {
     "slide_type": "slide"
    }
   },
   "source": [
    "## Website Visits\n",
    "\n",
    "<div class=\"image-txt-container\">\n",
    "    \n",
    "<img src=\"imgs/netflix.png\" width=\"50%\">\n",
    "\n",
    "\n",
    "* **Types of Individuals**\n",
    "* Visits to the netflix (browsing; video streamed)\n",
    "* Customer accounts (paid subscriptions)\n",
    "\n",
    "</div>\n"
   ]
  },
  {
   "cell_type": "markdown",
   "metadata": {
    "slideshow": {
     "slide_type": "slide"
    }
   },
   "source": [
    "## Website Visits\n",
    "\n",
    "<div class=\"image-txt-container\">\n",
    "    \n",
    "<img src=\"imgs/netflix.png\" width=\"50%\">\n",
    "\n",
    "\n",
    "- 140M streaming hrs/day (-\\$)\n",
    "- ~60M page visits/day (-\\$)\n",
    "- ~140M paid subscribers (+\\$)\n",
    "- 15M devices/day \n",
    "    * shared accounts?\n",
    "\n",
    "</div>\n",
    "\n",
    "\n"
   ]
  },
  {
   "cell_type": "markdown",
   "metadata": {
    "slideshow": {
     "slide_type": "slide"
    }
   },
   "source": [
    "# Design phase\n",
    "\n",
    "If you can control how your dataset is created then you should determine the granularity of your data *before* collection. \n",
    "\n",
    "**Advantages**\n",
    "\n",
    "- We can change a fine granularity to a coarse one if needed (how?)\n",
    "- No need to collect additional data (saves time)\n",
    "\n",
    "\n",
    "**Disadvantages**\n",
    "\n",
    "- Expensive to collect\n",
    "- Takes space\n",
    "\n"
   ]
  },
  {
   "cell_type": "markdown",
   "metadata": {
    "slideshow": {
     "slide_type": "slide"
    }
   },
   "source": [
    "# Manipulating Granularity\n",
    "\n",
    "* From the example above we saw that data can be represented in different levels. \n",
    "\n",
    "* In order to work with data from different tables we can change the granularity of the data. \n",
    "\n",
    "* The examples below will show you a techniques that allow you to manipulate granularity.\n",
    "\n"
   ]
  },
  {
   "cell_type": "markdown",
   "metadata": {
    "slideshow": {
     "slide_type": "slide"
    }
   },
   "source": [
    "### Discussion Question\n",
    "\n",
    "Given the table below, for each color, what proportion identify as 'M'?\n",
    "* Return your answer as a Series, indexed by color.\n",
    "* Try it first for one color.\n",
    "* How many passes through the data does your solution require?\n"
   ]
  },
  {
   "cell_type": "code",
   "execution_count": null,
   "metadata": {},
   "outputs": [],
   "source": [
    "people = pd.DataFrame(\n",
    "    [[\"Joey\", \"blue\", 42,\"M\"],\n",
    "     [\"Weiwei\",\"blue\", 50,\"F\"],\n",
    "     [\"Joey\", \"green\", 8,\"M\"],\n",
    "     [\"Karina\", \"green\",7, \"F\"],\n",
    "     [\"Fernando\", \"pink\", -9,\"M\"],\n",
    "     [\"Nhi\",\"blue\",3,\"F\"],\n",
    "     [\"Sam\",\"pink\", -42,\"X\"]], \n",
    "    columns = [\"Name\", \"Color\", \"Number\", \"Gender\"])\n",
    "people"
   ]
  },
  {
   "cell_type": "markdown",
   "metadata": {
    "slideshow": {
     "slide_type": "slide"
    }
   },
   "source": [
    "### Approach 1: 'looping through unique values'\n",
    "\n",
    "* How many passes through the data?\n",
    "* What are the space constraints?"
   ]
  },
  {
   "cell_type": "code",
   "execution_count": null,
   "metadata": {},
   "outputs": [],
   "source": [
    "colors = {}\n",
    "for color in people['Color'].unique():\n",
    "    filtered_for_color = people.loc[people['Color'] == color, : ]\n",
    "    colors[color] = (filtered_for_color['Gender'] == 'M').mean()\n",
    "\n",
    "pd.Series(colors)"
   ]
  },
  {
   "cell_type": "markdown",
   "metadata": {
    "slideshow": {
     "slide_type": "slide"
    }
   },
   "source": [
    "### Approach 2: 'single pass'"
   ]
  },
  {
   "cell_type": "code",
   "execution_count": null,
   "metadata": {},
   "outputs": [],
   "source": [
    "colors = {}\n",
    "for idx, row in people.iterrows():\n",
    "    \n",
    "    c, is_male = row['Color'], int(row['Gender'] == 'M')\n",
    "    if c in colors:\n",
    "        colors[c] += np.array([1, is_male])\n",
    "    else:\n",
    "        colors[c] = np.array([1, is_male])"
   ]
  },
  {
   "cell_type": "code",
   "execution_count": null,
   "metadata": {},
   "outputs": [],
   "source": [
    "df = pd.DataFrame(colors, index=['total', 'is_male'])\n",
    "(df.loc['is_male'] / df.loc['total'])"
   ]
  },
  {
   "cell_type": "markdown",
   "metadata": {
    "slideshow": {
     "slide_type": "slide"
    }
   },
   "source": [
    "### Issues with above solutions:\n",
    "\n",
    "* Ad-hoc solution that depends on the specific problem.\n",
    "* Loops in *python* are slow (though the *algorithmic reasoning* is still relevant).\n",
    "\n",
    "What are the *common patterns* in processing 'groups of data'?"
   ]
  },
  {
   "cell_type": "markdown",
   "metadata": {
    "slideshow": {
     "slide_type": "slide"
    }
   },
   "source": [
    "## Grouping and Aggregating Data\n",
    "\n",
    "**split-apply-combine**\n",
    "\n",
    "<img src=\"imgs/image_0.png\"/>\n",
    "\n",
    "\n",
    "**Aggregation** is the process of turning the values of a dataset (or a subset of it) into one single value.\n"
   ]
  },
  {
   "cell_type": "markdown",
   "metadata": {
    "slideshow": {
     "slide_type": "slide"
    }
   },
   "source": [
    "### Pandas `groupby` objects\n",
    "\n",
    "This makes clear what the `groupby` accomplishes:\n",
    "\n",
    "* **split** breaks up and groups a `DataFrame` depending on the value of the specified key.\n",
    "* **apply** computes a function (e.g. aggregate, transformation, or filtering) within the individual groups.\n",
    "* **combine** merges the results of these operations into an output array.\n"
   ]
  },
  {
   "cell_type": "markdown",
   "metadata": {
    "slideshow": {
     "slide_type": "slide"
    }
   },
   "source": [
    "### How `groupby` computes\n",
    "\n",
    "* The `groupby` can (often) do this in a *single* pass over the data, updating the sum, mean, count, min, or other aggregate for each group along the way. \n",
    "\n",
    "* `groupby` abstracts away these steps: the user need not think about *how* the computation is done under the hood, but rather thinks about the *operation as a whole*.\n",
    "\n",
    "* Big data tools use the same design pattern to send the computations on each group across *many computers*."
   ]
  },
  {
   "cell_type": "markdown",
   "metadata": {
    "slideshow": {
     "slide_type": "slide"
    }
   },
   "source": [
    "## `groupby` and `aggregate/apply/transform`\n",
    "\n",
    "* `groupby`: grouping collections of records over a set of fields for computing quantities over the remaining fields.\n",
    "    - `groupby` is a dataframe method that returns a `groupby` object.\n",
    "\n",
    "\n",
    "* `aggregate`: aggregating using one or more operations over the specified axis (also `apply/transform`)\n",
    "    - `aggregate` is a `groupby` object method that returns a Series/DataFrame.\n",
    "\n"
   ]
  },
  {
   "cell_type": "markdown",
   "metadata": {
    "slideshow": {
     "slide_type": "slide"
    }
   },
   "source": [
    "### `groupby` example\n",
    "\n",
    "Given the table below, for each color, what proportion identify as 'M'?"
   ]
  },
  {
   "cell_type": "code",
   "execution_count": null,
   "metadata": {},
   "outputs": [],
   "source": [
    "people"
   ]
  },
  {
   "cell_type": "code",
   "execution_count": null,
   "metadata": {},
   "outputs": [],
   "source": [
    "(\n",
    "    people\n",
    "    .assign(\n",
    "        is_male=(people['Gender'] == 'M')\n",
    "    )\n",
    "    .groupby('Color')['is_male']\n",
    "    .mean()\n",
    ")"
   ]
  },
  {
   "cell_type": "code",
   "execution_count": null,
   "metadata": {},
   "outputs": [],
   "source": []
  },
  {
   "cell_type": "code",
   "execution_count": null,
   "metadata": {},
   "outputs": [],
   "source": []
  },
  {
   "cell_type": "markdown",
   "metadata": {
    "slideshow": {
     "slide_type": "slide"
    }
   },
   "source": [
    "### `groupby` example\n",
    "\n",
    "* `dataframe.groupby(key)` returns a `DataFrameGroupBy` object.\n",
    "* `.group` is a dictionary of grouping keys and the corresponding dataframe\n",
    "* `.get_group(key)` method returns a dataframe corresponding to the given key\n"
   ]
  },
  {
   "cell_type": "code",
   "execution_count": null,
   "metadata": {},
   "outputs": [],
   "source": [
    "# The `groupby` operator groups rows in the table that are the same in one or more columns.\n",
    "\n",
    "grps = people.groupby(\"Color\")\n",
    "grps"
   ]
  },
  {
   "cell_type": "code",
   "execution_count": null,
   "metadata": {},
   "outputs": [],
   "source": [
    "grps.size()"
   ]
  },
  {
   "cell_type": "code",
   "execution_count": null,
   "metadata": {},
   "outputs": [],
   "source": [
    "# To view the content:\n",
    "\n",
    "for key, item in grps:\n",
    "    print('***** %s *****\\n' % key,\n",
    "          grps.get_group(key), \n",
    "          \"\\n\\n\")\n"
   ]
  },
  {
   "cell_type": "code",
   "execution_count": null,
   "metadata": {},
   "outputs": [],
   "source": []
  },
  {
   "cell_type": "code",
   "execution_count": null,
   "metadata": {},
   "outputs": [],
   "source": []
  },
  {
   "cell_type": "code",
   "execution_count": null,
   "metadata": {},
   "outputs": [],
   "source": []
  },
  {
   "cell_type": "markdown",
   "metadata": {
    "slideshow": {
     "slide_type": "slide"
    }
   },
   "source": [
    "### `groupby` and column selection\n",
    "\n",
    "* We will commonly combine `groupby` with column selection:\n",
    "    - e.g., `df.groupby(\"Region\")[\"Sales\"]` \n",
    "* Then add an aggregate calculation on that column:"
   ]
  },
  {
   "cell_type": "code",
   "execution_count": null,
   "metadata": {},
   "outputs": [],
   "source": [
    "people"
   ]
  },
  {
   "cell_type": "code",
   "execution_count": null,
   "metadata": {},
   "outputs": [],
   "source": [
    "people.groupby(\"Color\")[\"Number\"].median()"
   ]
  },
  {
   "cell_type": "code",
   "execution_count": null,
   "metadata": {},
   "outputs": [],
   "source": [
    "people.groupby(\"Color\")[\"Number\"].mean()"
   ]
  },
  {
   "cell_type": "code",
   "execution_count": null,
   "metadata": {},
   "outputs": [],
   "source": []
  },
  {
   "cell_type": "code",
   "execution_count": null,
   "metadata": {},
   "outputs": [],
   "source": []
  },
  {
   "cell_type": "markdown",
   "metadata": {
    "slideshow": {
     "slide_type": "slide"
    }
   },
   "source": [
    "### Grouping over multiple columns"
   ]
  },
  {
   "cell_type": "code",
   "execution_count": null,
   "metadata": {},
   "outputs": [],
   "source": [
    "# can you predict the output of the groupby?\n",
    "\n",
    "two_fields = people.groupby([\"Color\", \"Sex\"])\n"
   ]
  },
  {
   "cell_type": "code",
   "execution_count": null,
   "metadata": {},
   "outputs": [],
   "source": [
    "# To view the content:\n",
    "\n",
    "for key, item in two_fields:\n",
    "    print('***** %s *****\\n' % str(key),\n",
    "          two_fields.get_group(key), \n",
    "          \"\\n\\n\")"
   ]
  },
  {
   "cell_type": "code",
   "execution_count": null,
   "metadata": {},
   "outputs": [],
   "source": [
    "people.groupby([\"Color\", \"Sex\"])[['Name','Number']].max()"
   ]
  },
  {
   "cell_type": "code",
   "execution_count": null,
   "metadata": {},
   "outputs": [],
   "source": []
  },
  {
   "cell_type": "code",
   "execution_count": null,
   "metadata": {},
   "outputs": [],
   "source": []
  },
  {
   "cell_type": "code",
   "execution_count": null,
   "metadata": {},
   "outputs": [],
   "source": []
  },
  {
   "cell_type": "markdown",
   "metadata": {
    "slideshow": {
     "slide_type": "slide"
    }
   },
   "source": [
    "### `groupby` methods: `aggregate`, `apply`\n",
    "* Aggregates using one or more operations over the specified axis.\n",
    "* Takes in a dictionary of:\n",
    "    - keys: names of columns to a apply a function to,\n",
    "    - values: the function to apply.\n",
    "* There are more [sophisticated ways](https://pandas.pydata.org/pandas-docs/stable/generated/pandas.DataFrame.aggregate.html#pandas.DataFrame.aggregate) to use it."
   ]
  },
  {
   "cell_type": "code",
   "execution_count": null,
   "metadata": {},
   "outputs": [],
   "source": [
    "# aggregate\n",
    "\n",
    "def avg_str_len(series):\n",
    "    return series.str.len().mean()  # purpose?\n",
    "\n",
    "res = (\n",
    "    people\n",
    "        .groupby([\"Color\", \"Sex\"])\n",
    "        .aggregate({\"Name\": avg_str_len, \"Number\": np.mean})\n",
    ")\n",
    "\n",
    "res"
   ]
  },
  {
   "cell_type": "code",
   "execution_count": null,
   "metadata": {},
   "outputs": [],
   "source": [
    "# aggregate with list\n",
    "people.groupby(['Color', 'Sex']).aggregate([np.min, np.max, 'size'])"
   ]
  },
  {
   "cell_type": "code",
   "execution_count": null,
   "metadata": {},
   "outputs": [],
   "source": []
  },
  {
   "cell_type": "code",
   "execution_count": null,
   "metadata": {},
   "outputs": [],
   "source": []
  },
  {
   "cell_type": "markdown",
   "metadata": {
    "slideshow": {
     "slide_type": "slide"
    }
   },
   "source": [
    "### Animals at the zoo"
   ]
  },
  {
   "cell_type": "code",
   "execution_count": null,
   "metadata": {},
   "outputs": [],
   "source": [
    "zoo = pd.read_csv(\"data/zoo.csv\")\n",
    "zoo.head(10)"
   ]
  },
  {
   "cell_type": "code",
   "execution_count": null,
   "metadata": {},
   "outputs": [],
   "source": [
    "# 1. How much water is needed for all animals in a zoo?\n",
    "\n",
    "zoo.water_need.sum()"
   ]
  },
  {
   "cell_type": "code",
   "execution_count": null,
   "metadata": {},
   "outputs": [],
   "source": []
  },
  {
   "cell_type": "code",
   "execution_count": null,
   "metadata": {},
   "outputs": [],
   "source": []
  },
  {
   "cell_type": "code",
   "execution_count": null,
   "metadata": {},
   "outputs": [],
   "source": []
  },
  {
   "cell_type": "markdown",
   "metadata": {
    "slideshow": {
     "slide_type": "slide"
    }
   },
   "source": [
    "### Discussion Question\n",
    "\n",
    "What happens if I execute zoo.sum()?\n",
    "\n",
    "|Option|Answer|\n",
    "|---|---|\n",
    "|A:| Error|\n",
    "|B:| sum will be calculated for the first column|\n",
    "|C:| sum will be calculated for all columns|\n",
    "|D:| sum wll be calcalculated for the last column|"
   ]
  },
  {
   "cell_type": "code",
   "execution_count": null,
   "metadata": {},
   "outputs": [],
   "source": [
    "zoo"
   ]
  },
  {
   "cell_type": "code",
   "execution_count": null,
   "metadata": {},
   "outputs": [],
   "source": [
    "zoo.sum()"
   ]
  },
  {
   "cell_type": "code",
   "execution_count": null,
   "metadata": {},
   "outputs": [],
   "source": [
    "# Find the average consumption of water for each type of animal\n",
    "\n",
    "zoo.groupby(\"animal\").mean()"
   ]
  },
  {
   "cell_type": "code",
   "execution_count": null,
   "metadata": {},
   "outputs": [],
   "source": [
    "# 4. Find the median consumption of water and the oldest animal within each animal category \n",
    "    \n",
    "\n",
    "z = zoo.groupby(['animal']).aggregate({\"age\": np.max, \"water_need\": np.median})\n",
    "\n",
    "z"
   ]
  },
  {
   "cell_type": "code",
   "execution_count": null,
   "metadata": {},
   "outputs": [],
   "source": []
  },
  {
   "cell_type": "code",
   "execution_count": null,
   "metadata": {},
   "outputs": [],
   "source": []
  },
  {
   "cell_type": "code",
   "execution_count": null,
   "metadata": {},
   "outputs": [],
   "source": []
  },
  {
   "cell_type": "markdown",
   "metadata": {
    "slideshow": {
     "slide_type": "slide"
    }
   },
   "source": [
    "### Grouping and Indexes\n",
    "\n",
    "* the `groupby` operation creates an index based on the grouping columns. \n",
    "* If a grouping was one multiple columns, it results in a `MultiIndex`.\n",
    "    - Advice: given a `MultiIndex`? Use `.reset_index`!"
   ]
  },
  {
   "cell_type": "code",
   "execution_count": null,
   "metadata": {},
   "outputs": [],
   "source": [
    "# reminder\n",
    "\n",
    "import numpy as np\n",
    "\n",
    "def avg_str_len(series):\n",
    "    return series.str.len().mean()  # purpose?\n",
    "\n",
    "res = (\n",
    "    people\n",
    "        .groupby([\"Color\", \"Sex\"])\n",
    "        .aggregate({\"Name\": avg_str_len, \"Number\": np.mean})\n",
    ")\n",
    "\n",
    "res"
   ]
  },
  {
   "cell_type": "code",
   "execution_count": null,
   "metadata": {},
   "outputs": [],
   "source": [
    "# In some cases we might want to leave the grouping fields as columns:\n",
    "\n",
    "(\n",
    "    people\n",
    "        .groupby([\"Color\", \"Sex\"], as_index=False)\n",
    "        .aggregate({\"Name\": \"first\", \"Number\": np.mean})\n",
    ")"
   ]
  },
  {
   "cell_type": "code",
   "execution_count": null,
   "metadata": {},
   "outputs": [],
   "source": [
    "# Or using .reset_index instead\n",
    "\n",
    "(\n",
    "    people\n",
    "        .groupby([\"Color\", \"Sex\"])\n",
    "        .aggregate({\"Name\": \"first\", \"Number\": np.mean})\n",
    "        .reset_index()\n",
    ")"
   ]
  },
  {
   "cell_type": "code",
   "execution_count": null,
   "metadata": {},
   "outputs": [],
   "source": []
  },
  {
   "cell_type": "code",
   "execution_count": null,
   "metadata": {},
   "outputs": [],
   "source": []
  },
  {
   "cell_type": "code",
   "execution_count": null,
   "metadata": {},
   "outputs": [],
   "source": []
  },
  {
   "cell_type": "markdown",
   "metadata": {
    "slideshow": {
     "slide_type": "slide"
    }
   },
   "source": [
    "## `pivot` / `pivot_table` methods\n",
    "\n",
    "* Pivot is used to examine aggregates with respect to two characteristics.\n",
    "    - e.g. pivot sales data to look at average sales broken down by year and market.\n",
    "* reshapes the rows *and the columns*  of a table\n",
    "\n",
    "\n",
    "<img src=\"imgs/image_1.png\">"
   ]
  },
  {
   "cell_type": "markdown",
   "metadata": {
    "slideshow": {
     "slide_type": "slide"
    }
   },
   "source": [
    "### `pivot`/ `pivot_table` methods reshape dataframes from 'long' to 'wide'\n",
    "* `.pivot`/`.pivot_table` transforms:\n",
    "    - a long table of rows 'indexed' by two characteristics,\n",
    "    - into a wide table with one characteristic per axis.\n",
    "\n",
    "* `.pivot` is a reshape that often follows a `groupby`."
   ]
  },
  {
   "cell_type": "code",
   "execution_count": null,
   "metadata": {},
   "outputs": [],
   "source": [
    "# Counts of Color/Sex\n",
    "counts = people.groupby([\"Color\", \"Sex\"], as_index=False)['Number'].count()\n",
    "counts"
   ]
  },
  {
   "cell_type": "code",
   "execution_count": null,
   "metadata": {},
   "outputs": [],
   "source": [
    "# pivot method merely reshapes the data\n",
    "counts.pivot('Color', 'Sex', 'Number')"
   ]
  },
  {
   "cell_type": "code",
   "execution_count": null,
   "metadata": {},
   "outputs": [],
   "source": [
    "# pivot method mereley reshapes the data\n",
    "counts.pivot_table(index='Color', columns='Sex', values='Number')"
   ]
  },
  {
   "cell_type": "code",
   "execution_count": null,
   "metadata": {},
   "outputs": [],
   "source": []
  },
  {
   "cell_type": "code",
   "execution_count": null,
   "metadata": {},
   "outputs": [],
   "source": []
  },
  {
   "cell_type": "code",
   "execution_count": null,
   "metadata": {},
   "outputs": [],
   "source": []
  },
  {
   "cell_type": "markdown",
   "metadata": {
    "slideshow": {
     "slide_type": "slide"
    }
   },
   "source": [
    "### The `pivot_table` method can combine `groupby` and `pivot`\n",
    "\n",
    "* Doing a pivot after a groupby is so common, `pivot_table` can do it!\n",
    "* `aggfunc='count'` specifies to aggregate by count before pivoting.\n",
    "* The equivalent of:\n",
    "```\n",
    "people.groupby([\"Color\", \"Sex\"], as_index=False)['Number'].count().pivot('Color', 'Sex', 'Number')\n",
    "```"
   ]
  },
  {
   "cell_type": "code",
   "execution_count": null,
   "metadata": {},
   "outputs": [],
   "source": [
    "people.pivot_table(\n",
    "    values  = \"Number\", # the entry to aggregate over\n",
    "    index   = \"Color\",  # the row grouping attributes\n",
    "    columns = \"Sex\",    # the column grouping attributes\n",
    "    aggfunc = \"count\"   # the aggregation function\n",
    ")"
   ]
  },
  {
   "cell_type": "code",
   "execution_count": null,
   "metadata": {},
   "outputs": [],
   "source": []
  },
  {
   "cell_type": "code",
   "execution_count": null,
   "metadata": {},
   "outputs": [],
   "source": []
  },
  {
   "cell_type": "markdown",
   "metadata": {
    "slideshow": {
     "slide_type": "slide"
    }
   },
   "source": [
    "### `pivot_table` observations\n",
    "\n",
    "1. The second \"grouping\" column (`Sex`) has been **\"pivoted\" from the rows to column location**. \n",
    "2. There is a missing value for `pink` and `F` since none of the women chose `pink` as their favorite color.\n",
    "    - specify how missing values are filled in with `fill_value` kwarg"
   ]
  },
  {
   "cell_type": "code",
   "execution_count": null,
   "metadata": {},
   "outputs": [],
   "source": [
    "people.pivot_table(\n",
    "    values  = \"Number\",\n",
    "    index   = \"Color\",\n",
    "    columns = \"Sex\",\n",
    "    aggfunc = \"count\",\n",
    "    #fill_value = 0.0\n",
    ")"
   ]
  },
  {
   "cell_type": "code",
   "execution_count": null,
   "metadata": {},
   "outputs": [],
   "source": []
  },
  {
   "cell_type": "code",
   "execution_count": null,
   "metadata": {},
   "outputs": [],
   "source": []
  },
  {
   "cell_type": "code",
   "execution_count": null,
   "metadata": {},
   "outputs": [],
   "source": []
  },
  {
   "cell_type": "markdown",
   "metadata": {
    "slideshow": {
     "slide_type": "slide"
    }
   },
   "source": [
    "### `Pivot` conclusion\n",
    "\n",
    "* Pivots reshape your data from long to wide.\n",
    "* Other reshaping dataframe methods:\n",
    "    - `melt`: un-pivots your data\n",
    "    - `stack`: pivoting multi-level columns to multi-indices\n",
    "    - `unstack`: pivoting multi-indices to columns"
   ]
  },
  {
   "cell_type": "markdown",
   "metadata": {
    "slideshow": {
     "slide_type": "slide"
    }
   },
   "source": [
    "# Simpson's 'Paradox'"
   ]
  },
  {
   "cell_type": "markdown",
   "metadata": {
    "slideshow": {
     "slide_type": "slide"
    }
   },
   "source": [
    "# Simpson's 'Paradox'\n",
    "* Datasets look different at different granularities\n",
    "\n",
    "<img src=\"imgs/image_2.png\">"
   ]
  },
  {
   "cell_type": "markdown",
   "metadata": {
    "slideshow": {
     "slide_type": "slide"
    }
   },
   "source": [
    "# Example 1. How Berkeley was sued for gender discrimination\n",
    "\n",
    "<img src=\"imgs/image_3.png\">\n",
    "**Do you agree?**"
   ]
  },
  {
   "cell_type": "markdown",
   "metadata": {
    "slideshow": {
     "slide_type": "slide"
    }
   },
   "source": [
    "## Researchers looked more closely within specific departments\n",
    "\n",
    "<img src=\"imgs/image_4.png\">\n",
    "\n",
    "**and what did they see?**\n",
    "\n",
    "(from here: https://medium.com/@dexter.shawn/how-uc-berkeley-almost-got-sued-because-of-lying-data-aaa5d641f571)"
   ]
  },
  {
   "cell_type": "markdown",
   "metadata": {
    "slideshow": {
     "slide_type": "slide"
    }
   },
   "source": [
    "### What happened with admission?\n",
    "\n",
    "\n",
    "<div class=\"image-txt-container\">\n",
    "    \n",
    "<img src=\"imgs/simpsons_berkeley.png\" width=\"50%\">\n",
    "\n",
    "\n",
    "* Most depts admitted MORE women!\n",
    "* Dept A: few women applicants\n",
    "* Dept F: many women applicants\n",
    "* Women apply to harder depts.\n",
    "\n",
    "    \n",
    "</div>\n",
    "\n",
    "\n"
   ]
  },
  {
   "cell_type": "markdown",
   "metadata": {
    "slideshow": {
     "slide_type": "slide"
    }
   },
   "source": [
    "### What happened? (by the numbers)\n",
    "\n",
    "* Overall acceptance rate: 35% (women) to 44% (men).\n",
    "\n",
    "* Dept A has an acceptance rate 82% for women vs 62% for men! \n",
    "    - **2%** of all women applied to Dept A.\n",
    "    - **10%** of all men applied to Dept A.\n",
    "    \n",
    "* Dept F has an acceptance rate 6% for women vs 7% for men! \n",
    "    - **8%** of all women applied to Dept A.\n",
    "    - **4%** of all men applied to Dept A.\n",
    "\n",
    "**Conclusion:** Women tend to apply to depts with a low-acceptance rate."
   ]
  },
  {
   "cell_type": "markdown",
   "metadata": {
    "slideshow": {
     "slide_type": "slide"
    }
   },
   "source": [
    "## Simpson's Paradox\n",
    "\n",
    "* When grouped data tells the opposite story of the ungrouped data. \n",
    "\n",
    "* This *often* happens because there is a hidden factor (*a confounder*) within the data that influences results.\n",
    "\n",
    "* What is the \"correct\" way to summarize your data? What if you had to act on these results?"
   ]
  },
  {
   "cell_type": "markdown",
   "metadata": {
    "slideshow": {
     "slide_type": "slide"
    }
   },
   "source": [
    "# Example 2. Hospital Example\n",
    "\n",
    "* Should I send my elderly relative to Hospital A or B?\n",
    "\n",
    "<img src=\"imgs/hospitals.png\">\n",
    "    \n",
    "[[from here]](https://www.youtube.com/watch?v=sxYrzzy3cq8&feature=youtu.be) "
   ]
  },
  {
   "cell_type": "markdown",
   "metadata": {
    "slideshow": {
     "slide_type": "slide"
    }
   },
   "source": [
    "### Additional observation:\n",
    "\n",
    "Not all patients arrive with the same health:\n",
    "\n",
    "<br/>\n",
    "\n",
    "<div class=\"image-txt-container\">\n",
    "    \n",
    "    \n",
    "    \n",
    "<img src=\"imgs/A_poor.png\" width=\"42%\">\n",
    "\n",
    "\n",
    "<img src=\"imgs/B_poor.png\" width=\"45%\">\n",
    "\n",
    "    \n",
    "</div>\n",
    "\n",
    "\n",
    "Calculate the survival rate for those in poor health."
   ]
  },
  {
   "cell_type": "code",
   "execution_count": null,
   "metadata": {},
   "outputs": [],
   "source": [
    "# for A:\n",
    "print(30*100/100)\n",
    "# for B:\n",
    "print(210*100/400)"
   ]
  },
  {
   "cell_type": "markdown",
   "metadata": {
    "slideshow": {
     "slide_type": "slide"
    }
   },
   "source": [
    "### Question\n",
    "\n",
    "* What if your relative's health is good? \n",
    "* What hospital should you choose, A or B?\n",
    "\n",
    "Remember, that hospital \n",
    "* A had 900/1000 survivors (30/100 poor health) \n",
    "* B has 800/1000 survivors (210/400 poor health). \n",
    "\n",
    "Talk to each other and vote:\n",
    "\n",
    "|Option|Answer|\n",
    "|---|---|\n",
    "|A| Hospital A|\n",
    "|B| Hospital B|\n",
    "|C| Impossible to decide, not enough data|\n"
   ]
  },
  {
   "cell_type": "markdown",
   "metadata": {
    "slideshow": {
     "slide_type": "slide"
    }
   },
   "source": [
    "### Simpson's paradox explanation: hospital example\n",
    "\n",
    "* The data show opposite trends, depending on how it is grouped. \n",
    "* The hidden factor is the relative proportion of patients who arrived on good/poor health.\n",
    "* *In this case*, how you act depends on which group you are in."
   ]
  },
  {
   "cell_type": "markdown",
   "metadata": {
    "slideshow": {
     "slide_type": "slide"
    }
   },
   "source": [
    "## Caution: Simpson's paradox is merely arithmetic\n",
    "\n",
    "* Sometimes there are no *revelant* confounders.\n",
    "* Simpson's paradox is present in ~2% of randomly chosen \"grouping distributions\".\n",
    "* The best way to interpret the data depends on what you want from it!\n"
   ]
  },
  {
   "cell_type": "markdown",
   "metadata": {
    "slideshow": {
     "slide_type": "slide"
    }
   },
   "source": [
    "### Restaurant reviews and phone types\n",
    "\n",
    "* You are deciding between two restaurants with a friend.\n",
    "* In a new feature, yelp aggregates attributes of reviewers for their reviews.\n",
    "* Should you choose restaurant A or B? \n",
    "\n",
    "|Phone Type|Stars for A|Stars for B|\n",
    "|---|---|---|\n",
    "|Android|4.24|4.0|\n",
    "|iPhone|2.99|2.79|\n",
    "|___|___|___|\n",
    "|All|3.32|3.37|\n",
    "\n"
   ]
  },
  {
   "cell_type": "markdown",
   "metadata": {
    "slideshow": {
     "slide_type": "slide"
    }
   },
   "source": [
    "### Restaurant reviews and phone types\n",
    "* It's doubtful that your phone-type will *cause* you to prefer one restaurant over another (?)\n",
    "* If you aggregate again, the inequalities may flip *again* (e.g. phone-type ownership by zip-code)\n",
    "* Simpson's paradox is merely a property of weighted averages!"
   ]
  },
  {
   "cell_type": "markdown",
   "metadata": {
    "slideshow": {
     "slide_type": "notes"
    }
   },
   "source": [
    "* Maybe Android users give better reviews? But you care about relative rank!"
   ]
  },
  {
   "cell_type": "markdown",
   "metadata": {
    "slideshow": {
     "slide_type": "slide"
    }
   },
   "source": [
    "### Verifying simpson's paradox\n",
    "* Suppose we have a dataset of individual ratings\n",
    "* Can you verify simpson's paradox?"
   ]
  },
  {
   "cell_type": "code",
   "execution_count": null,
   "metadata": {},
   "outputs": [],
   "source": [
    "ratings = pd.read_csv('data/ratings.csv')\n",
    "ratings.head()"
   ]
  },
  {
   "cell_type": "code",
   "execution_count": null,
   "metadata": {},
   "outputs": [],
   "source": []
  }
 ],
 "metadata": {
  "celltoolbar": "Slideshow",
  "kernelspec": {
   "display_name": "Python 3",
   "language": "python",
   "name": "python3"
  },
  "language_info": {
   "codemirror_mode": {
    "name": "ipython",
    "version": 3
   },
   "file_extension": ".py",
   "mimetype": "text/x-python",
   "name": "python",
   "nbconvert_exporter": "python",
   "pygments_lexer": "ipython3",
   "version": "3.7.1"
  },
  "livereveal": {
   "scroll": true,
   "transition": "none"
  }
 },
 "nbformat": 4,
 "nbformat_minor": 2
}
