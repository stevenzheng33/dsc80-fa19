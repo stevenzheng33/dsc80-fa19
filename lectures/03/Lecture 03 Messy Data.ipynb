{
 "cells": [
  {
   "cell_type": "code",
   "execution_count": 2,
   "metadata": {
    "slideshow": {
     "slide_type": "slide"
    }
   },
   "outputs": [],
   "source": [
    "%matplotlib inline\n",
    "import pandas as pd\n",
    "import numpy as np\n",
    "import os"
   ]
  },
  {
   "cell_type": "markdown",
   "metadata": {
    "slideshow": {
     "slide_type": "slide"
    }
   },
   "source": [
    "# Messy Data and Data Cleaning"
   ]
  },
  {
   "cell_type": "markdown",
   "metadata": {
    "slideshow": {
     "slide_type": "slide"
    }
   },
   "source": [
    "## Outline\n",
    "\n",
    "* Data Generating Processes.\n",
    "* Introduction to field types.\n",
    "* Outliers: how to spot them and fix them.\n",
    "* Missing values: understanding them and dropping them."
   ]
  },
  {
   "cell_type": "markdown",
   "metadata": {
    "slideshow": {
     "slide_type": "slide"
    }
   },
   "source": [
    "## There is no such thing as 'raw data'.\n",
    "\n",
    "* Data are the result of measurements that must be recorded.\n",
    "* Humans design the measurements and record the results.\n",
    "* Data is *always* an imperfect record of the underlying processing being measured."
   ]
  },
  {
   "cell_type": "markdown",
   "metadata": {
    "slideshow": {
     "slide_type": "slide"
    }
   },
   "source": [
    "## Data Generating Process\n",
    "\n",
    "* A **data generating process** is the underlying, real-world (probabilistic) mechanism that generates the observed data. \n",
    "* Observed data is an incomplete artifact of the data generating process.\n",
    "* A data generating process is what a statistical model attempts to describe.\n",
    "\n",
    "Cleaning data requires understanding of the data generating process."
   ]
  },
  {
   "cell_type": "markdown",
   "metadata": {
    "slideshow": {
     "slide_type": "slide"
    }
   },
   "source": [
    "### Example: Unemployment Data\n",
    "* Problem: predict the effect policy X has on the US labor market\n",
    "    - Does it decrease unemployment? Increase wages?\n",
    "* Data: [labor force data](https://www.bls.gov/cps/cps_htgm.pdf) collected by the BLS\n"
   ]
  },
  {
   "cell_type": "markdown",
   "metadata": {
    "slideshow": {
     "slide_type": "slide"
    }
   },
   "source": [
    "### Example: Unemployment Data\n",
    "* Sample quality: Is the BLS data a sample or census?\n",
    "* Measurement; who is counted as:\n",
    "    - employed? unemployed? underemployed? not in the labor force?\n",
    "* The data are generated according to a *political* process!\n",
    "    - For an introduction, see [this article](https://www.nytimes.com/2018/09/14/opinion/columnists/great-recession-economy-gdp.html)"
   ]
  },
  {
   "cell_type": "markdown",
   "metadata": {
    "slideshow": {
     "slide_type": "slide"
    }
   },
   "source": [
    "## Data Provenance: can I trust my data?\n",
    "\n",
    "Understanding as much as possible about the lineage of data from \n",
    "1. The assumptions on the data generating process, to\n",
    "2. the initial measurements of that (or a similar) process, to  \n",
    "3. the data in its eventually acquired form."
   ]
  },
  {
   "cell_type": "markdown",
   "metadata": {
    "slideshow": {
     "slide_type": "slide"
    }
   },
   "source": [
    "# Data Cleaning"
   ]
  },
  {
   "cell_type": "markdown",
   "metadata": {
    "slideshow": {
     "slide_type": "slide"
    }
   },
   "source": [
    "## Data Cleaning\n",
    "\n",
    "* The process of transforming data:\n",
    "    - into a faithful representation of an underlying data generating process \n",
    "    - to facilitate subsequent analysis.\n",
    "\n",
    "* In practice, data cleaning is often detective work to understand data provenance.\n",
    "    - **always be skeptical of your data!**"
   ]
  },
  {
   "cell_type": "markdown",
   "metadata": {
    "slideshow": {
     "slide_type": "slide"
    }
   },
   "source": [
    "## Data cleaning often addresses:\n",
    "\n",
    "* The structure of the recorded data \n",
    "    - are the individual properly represented as rows?\n",
    "* The encoding and format of the values in the data.\n",
    "    - are the data types of a column reflective of the information it contains?\n",
    "* Corrupt and \"incorrect\" data; missing values.\n",
    "    - were their flaws in the 'data recording process'?"
   ]
  },
  {
   "cell_type": "markdown",
   "metadata": {
    "slideshow": {
     "slide_type": "slide"
    }
   },
   "source": [
    "<img src=\"imgs/image_2.png\"/>"
   ]
  },
  {
   "cell_type": "markdown",
   "metadata": {
    "slideshow": {
     "slide_type": "slide"
    }
   },
   "source": [
    "### Discussion: are each of the following Quantitative, Ordinal, or Nominal?\n",
    "\n",
    "1. **Price in dollars of a product?**\n",
    "1. **Star Rating on Yelp?**\n",
    "1. **Date/time an item was sold?** think of time as passed value\n",
    "1. **Day of the week an item was sold?** There is no inherent full ordering\n",
    "1. **A Credit Card Number?**"
   ]
  },
  {
   "cell_type": "markdown",
   "metadata": {
    "slideshow": {
     "slide_type": "slide"
    }
   },
   "source": [
    "### Answers:\n",
    "\n",
    "|Question|Answer|\n",
    "|---|---|\n",
    "|Price in dollars of a product|Quantitatave|\n",
    "|Star Rating on Yelp|Ordinal|\n",
    "|Date an item was sold|Quantitative|\n",
    "|Day of week an item was sold|????|\n",
    "|Credit Card Number|Nominal|"
   ]
  },
  {
   "cell_type": "markdown",
   "metadata": {
    "slideshow": {
     "slide_type": "slide"
    }
   },
   "source": [
    "## Converting data types in Pandas"
   ]
  },
  {
   "cell_type": "markdown",
   "metadata": {},
   "source": [
    "### Student dataset\n",
    "- **Student ID, Student Name** (should be clear)\n",
    "- **Month, Day, Year**: date when student was accepted to UCSD\n",
    "- **2018, 2019 tuitions and growth** (should be clear)\n",
    "- **Paid**: Indicates if tuition is paid yet\n",
    "- **DSC80 Final grade**: Some students may take class for Pass/Fail\n",
    "\n",
    "What needs to be changed in the dataframe to compute statistics?"
   ]
  },
  {
   "cell_type": "code",
   "execution_count": 3,
   "metadata": {},
   "outputs": [
    {
     "data": {
      "text/html": [
       "<div>\n",
       "<style scoped>\n",
       "    .dataframe tbody tr th:only-of-type {\n",
       "        vertical-align: middle;\n",
       "    }\n",
       "\n",
       "    .dataframe tbody tr th {\n",
       "        vertical-align: top;\n",
       "    }\n",
       "\n",
       "    .dataframe thead th {\n",
       "        text-align: right;\n",
       "    }\n",
       "</style>\n",
       "<table border=\"1\" class=\"dataframe\">\n",
       "  <thead>\n",
       "    <tr style=\"text-align: right;\">\n",
       "      <th></th>\n",
       "      <th>Student ID</th>\n",
       "      <th>Student Name</th>\n",
       "      <th>Month</th>\n",
       "      <th>Day</th>\n",
       "      <th>Year</th>\n",
       "      <th>2018 tuition</th>\n",
       "      <th>2019 tuition</th>\n",
       "      <th>Percent Growth</th>\n",
       "      <th>Paid</th>\n",
       "      <th>DSC 80 Final Grade</th>\n",
       "    </tr>\n",
       "  </thead>\n",
       "  <tbody>\n",
       "    <tr>\n",
       "      <th>0</th>\n",
       "      <td>10002.0</td>\n",
       "      <td>John Black</td>\n",
       "      <td>10</td>\n",
       "      <td>12</td>\n",
       "      <td>2018</td>\n",
       "      <td>$40000.00</td>\n",
       "      <td>$50000.00</td>\n",
       "      <td>25.00%</td>\n",
       "      <td>N</td>\n",
       "      <td>89</td>\n",
       "    </tr>\n",
       "    <tr>\n",
       "      <th>1</th>\n",
       "      <td>552278.0</td>\n",
       "      <td>Mark White</td>\n",
       "      <td>4</td>\n",
       "      <td>15</td>\n",
       "      <td>2017</td>\n",
       "      <td>$9200.00</td>\n",
       "      <td>$10120.00</td>\n",
       "      <td>10.00%</td>\n",
       "      <td>Y</td>\n",
       "      <td>90</td>\n",
       "    </tr>\n",
       "    <tr>\n",
       "      <th>2</th>\n",
       "      <td>23477.0</td>\n",
       "      <td>Amy Red</td>\n",
       "      <td>5</td>\n",
       "      <td>14</td>\n",
       "      <td>2016</td>\n",
       "      <td>$50000.00</td>\n",
       "      <td>$62500.00</td>\n",
       "      <td>25.00%</td>\n",
       "      <td>N</td>\n",
       "      <td>97</td>\n",
       "    </tr>\n",
       "    <tr>\n",
       "      <th>3</th>\n",
       "      <td>24900.0</td>\n",
       "      <td>Tom Green</td>\n",
       "      <td>7</td>\n",
       "      <td>10</td>\n",
       "      <td>2015</td>\n",
       "      <td>$7000.00</td>\n",
       "      <td>$9800.00</td>\n",
       "      <td>40.00%</td>\n",
       "      <td>Y</td>\n",
       "      <td>54</td>\n",
       "    </tr>\n",
       "    <tr>\n",
       "      <th>4</th>\n",
       "      <td>651029.0</td>\n",
       "      <td>Rose Pink</td>\n",
       "      <td>3</td>\n",
       "      <td>3</td>\n",
       "      <td>2014</td>\n",
       "      <td>$10000.00</td>\n",
       "      <td>$5000.00</td>\n",
       "      <td>-50.00%</td>\n",
       "      <td>Y</td>\n",
       "      <td>Pass</td>\n",
       "    </tr>\n",
       "  </tbody>\n",
       "</table>\n",
       "</div>"
      ],
      "text/plain": [
       "   Student ID Student Name  Month  Day  Year 2018 tuition 2019 tuition  \\\n",
       "0     10002.0   John Black     10   12  2018    $40000.00    $50000.00   \n",
       "1    552278.0   Mark White      4   15  2017     $9200.00    $10120.00   \n",
       "2     23477.0      Amy Red      5   14  2016    $50000.00    $62500.00   \n",
       "3     24900.0    Tom Green      7   10  2015     $7000.00     $9800.00   \n",
       "4    651029.0    Rose Pink      3    3  2014    $10000.00     $5000.00   \n",
       "\n",
       "  Percent Growth Paid DSC 80 Final Grade  \n",
       "0         25.00%    N                 89  \n",
       "1         10.00%    Y                 90  \n",
       "2         25.00%    N                 97  \n",
       "3         40.00%    Y                 54  \n",
       "4        -50.00%    Y               Pass  "
      ]
     },
     "execution_count": 3,
     "metadata": {},
     "output_type": "execute_result"
    }
   ],
   "source": [
    "df = pd.read_csv(\"data/Data.csv\")\n",
    "df"
   ]
  },
  {
   "cell_type": "markdown",
   "metadata": {
    "slideshow": {
     "slide_type": "slide"
    }
   },
   "source": [
    "### What is the sum of tuition paid in 2018 and 2019?\n",
    "* Sum tuition columns using `+`\n",
    "* Save it in a `pd.Series` called `total`."
   ]
  },
  {
   "cell_type": "code",
   "execution_count": 4,
   "metadata": {},
   "outputs": [
    {
     "data": {
      "text/html": [
       "<div>\n",
       "<style scoped>\n",
       "    .dataframe tbody tr th:only-of-type {\n",
       "        vertical-align: middle;\n",
       "    }\n",
       "\n",
       "    .dataframe tbody tr th {\n",
       "        vertical-align: top;\n",
       "    }\n",
       "\n",
       "    .dataframe thead th {\n",
       "        text-align: right;\n",
       "    }\n",
       "</style>\n",
       "<table border=\"1\" class=\"dataframe\">\n",
       "  <thead>\n",
       "    <tr style=\"text-align: right;\">\n",
       "      <th></th>\n",
       "      <th>Student ID</th>\n",
       "      <th>Student Name</th>\n",
       "      <th>Month</th>\n",
       "      <th>Day</th>\n",
       "      <th>Year</th>\n",
       "      <th>2018 tuition</th>\n",
       "      <th>2019 tuition</th>\n",
       "      <th>Percent Growth</th>\n",
       "      <th>Paid</th>\n",
       "      <th>DSC 80 Final Grade</th>\n",
       "    </tr>\n",
       "  </thead>\n",
       "  <tbody>\n",
       "    <tr>\n",
       "      <th>0</th>\n",
       "      <td>10002.0</td>\n",
       "      <td>John Black</td>\n",
       "      <td>10</td>\n",
       "      <td>12</td>\n",
       "      <td>2018</td>\n",
       "      <td>$40000.00</td>\n",
       "      <td>$50000.00</td>\n",
       "      <td>25.00%</td>\n",
       "      <td>N</td>\n",
       "      <td>89</td>\n",
       "    </tr>\n",
       "    <tr>\n",
       "      <th>1</th>\n",
       "      <td>552278.0</td>\n",
       "      <td>Mark White</td>\n",
       "      <td>4</td>\n",
       "      <td>15</td>\n",
       "      <td>2017</td>\n",
       "      <td>$9200.00</td>\n",
       "      <td>$10120.00</td>\n",
       "      <td>10.00%</td>\n",
       "      <td>Y</td>\n",
       "      <td>90</td>\n",
       "    </tr>\n",
       "    <tr>\n",
       "      <th>2</th>\n",
       "      <td>23477.0</td>\n",
       "      <td>Amy Red</td>\n",
       "      <td>5</td>\n",
       "      <td>14</td>\n",
       "      <td>2016</td>\n",
       "      <td>$50000.00</td>\n",
       "      <td>$62500.00</td>\n",
       "      <td>25.00%</td>\n",
       "      <td>N</td>\n",
       "      <td>97</td>\n",
       "    </tr>\n",
       "    <tr>\n",
       "      <th>3</th>\n",
       "      <td>24900.0</td>\n",
       "      <td>Tom Green</td>\n",
       "      <td>7</td>\n",
       "      <td>10</td>\n",
       "      <td>2015</td>\n",
       "      <td>$7000.00</td>\n",
       "      <td>$9800.00</td>\n",
       "      <td>40.00%</td>\n",
       "      <td>Y</td>\n",
       "      <td>54</td>\n",
       "    </tr>\n",
       "    <tr>\n",
       "      <th>4</th>\n",
       "      <td>651029.0</td>\n",
       "      <td>Rose Pink</td>\n",
       "      <td>3</td>\n",
       "      <td>3</td>\n",
       "      <td>2014</td>\n",
       "      <td>$10000.00</td>\n",
       "      <td>$5000.00</td>\n",
       "      <td>-50.00%</td>\n",
       "      <td>Y</td>\n",
       "      <td>Pass</td>\n",
       "    </tr>\n",
       "  </tbody>\n",
       "</table>\n",
       "</div>"
      ],
      "text/plain": [
       "   Student ID Student Name  Month  Day  Year 2018 tuition 2019 tuition  \\\n",
       "0     10002.0   John Black     10   12  2018    $40000.00    $50000.00   \n",
       "1    552278.0   Mark White      4   15  2017     $9200.00    $10120.00   \n",
       "2     23477.0      Amy Red      5   14  2016    $50000.00    $62500.00   \n",
       "3     24900.0    Tom Green      7   10  2015     $7000.00     $9800.00   \n",
       "4    651029.0    Rose Pink      3    3  2014    $10000.00     $5000.00   \n",
       "\n",
       "  Percent Growth Paid DSC 80 Final Grade  \n",
       "0         25.00%    N                 89  \n",
       "1         10.00%    Y                 90  \n",
       "2         25.00%    N                 97  \n",
       "3         40.00%    Y                 54  \n",
       "4        -50.00%    Y               Pass  "
      ]
     },
     "execution_count": 4,
     "metadata": {},
     "output_type": "execute_result"
    }
   ],
   "source": [
    "df"
   ]
  },
  {
   "cell_type": "code",
   "execution_count": 5,
   "metadata": {},
   "outputs": [
    {
     "data": {
      "text/plain": [
       "0    $40000.00$50000.00\n",
       "1     $9200.00$10120.00\n",
       "2    $50000.00$62500.00\n",
       "3      $7000.00$9800.00\n",
       "4     $10000.00$5000.00\n",
       "dtype: object"
      ]
     },
     "execution_count": 5,
     "metadata": {},
     "output_type": "execute_result"
    }
   ],
   "source": [
    "total = df['2018 tuition'] + df['2019 tuition']\n",
    "total"
   ]
  },
  {
   "cell_type": "markdown",
   "metadata": {
    "slideshow": {
     "slide_type": "slide"
    }
   },
   "source": [
    "### Check the data types of the student table\n",
    "* What data type *should* each column have?\n",
    "* What kinds of data should each column have?\n",
    "    - Quantitative, Catgorical (Ordinal, Nominal)\n",
    "* Use the `df.dtypes` attribute to peak at the data types."
   ]
  },
  {
   "cell_type": "code",
   "execution_count": 6,
   "metadata": {},
   "outputs": [
    {
     "data": {
      "text/plain": [
       "Student ID            float64\n",
       "Student Name           object\n",
       "Month                   int64\n",
       "Day                     int64\n",
       "Year                    int64\n",
       "2018 tuition           object\n",
       "2019 tuition           object\n",
       "Percent Growth         object\n",
       "Paid                   object\n",
       "DSC 80 Final Grade     object\n",
       "dtype: object"
      ]
     },
     "execution_count": 6,
     "metadata": {},
     "output_type": "execute_result"
    }
   ],
   "source": [
    "df.dtypes"
   ]
  },
  {
   "cell_type": "markdown",
   "metadata": {
    "slideshow": {
     "slide_type": "slide"
    }
   },
   "source": [
    "### Cleaning up: `Student ID`\n",
    "\n",
    "* `Student ID` is a `float64`, should be `int64`\n",
    "* May be a float value due to earlier processing with e.g. Excel.\n",
    "* Change the type using `.astype` method\n",
    "    - `.astype` returns a copy!"
   ]
  },
  {
   "cell_type": "code",
   "execution_count": 7,
   "metadata": {},
   "outputs": [
    {
     "data": {
      "text/html": [
       "<div>\n",
       "<style scoped>\n",
       "    .dataframe tbody tr th:only-of-type {\n",
       "        vertical-align: middle;\n",
       "    }\n",
       "\n",
       "    .dataframe tbody tr th {\n",
       "        vertical-align: top;\n",
       "    }\n",
       "\n",
       "    .dataframe thead th {\n",
       "        text-align: right;\n",
       "    }\n",
       "</style>\n",
       "<table border=\"1\" class=\"dataframe\">\n",
       "  <thead>\n",
       "    <tr style=\"text-align: right;\">\n",
       "      <th></th>\n",
       "      <th>Student ID</th>\n",
       "      <th>Student Name</th>\n",
       "      <th>Month</th>\n",
       "      <th>Day</th>\n",
       "      <th>Year</th>\n",
       "      <th>2018 tuition</th>\n",
       "      <th>2019 tuition</th>\n",
       "      <th>Percent Growth</th>\n",
       "      <th>Paid</th>\n",
       "      <th>DSC 80 Final Grade</th>\n",
       "    </tr>\n",
       "  </thead>\n",
       "  <tbody>\n",
       "    <tr>\n",
       "      <th>0</th>\n",
       "      <td>10002</td>\n",
       "      <td>John Black</td>\n",
       "      <td>10</td>\n",
       "      <td>12</td>\n",
       "      <td>2018</td>\n",
       "      <td>$40000.00</td>\n",
       "      <td>$50000.00</td>\n",
       "      <td>25.00%</td>\n",
       "      <td>N</td>\n",
       "      <td>89</td>\n",
       "    </tr>\n",
       "    <tr>\n",
       "      <th>1</th>\n",
       "      <td>552278</td>\n",
       "      <td>Mark White</td>\n",
       "      <td>4</td>\n",
       "      <td>15</td>\n",
       "      <td>2017</td>\n",
       "      <td>$9200.00</td>\n",
       "      <td>$10120.00</td>\n",
       "      <td>10.00%</td>\n",
       "      <td>Y</td>\n",
       "      <td>90</td>\n",
       "    </tr>\n",
       "    <tr>\n",
       "      <th>2</th>\n",
       "      <td>23477</td>\n",
       "      <td>Amy Red</td>\n",
       "      <td>5</td>\n",
       "      <td>14</td>\n",
       "      <td>2016</td>\n",
       "      <td>$50000.00</td>\n",
       "      <td>$62500.00</td>\n",
       "      <td>25.00%</td>\n",
       "      <td>N</td>\n",
       "      <td>97</td>\n",
       "    </tr>\n",
       "    <tr>\n",
       "      <th>3</th>\n",
       "      <td>24900</td>\n",
       "      <td>Tom Green</td>\n",
       "      <td>7</td>\n",
       "      <td>10</td>\n",
       "      <td>2015</td>\n",
       "      <td>$7000.00</td>\n",
       "      <td>$9800.00</td>\n",
       "      <td>40.00%</td>\n",
       "      <td>Y</td>\n",
       "      <td>54</td>\n",
       "    </tr>\n",
       "    <tr>\n",
       "      <th>4</th>\n",
       "      <td>651029</td>\n",
       "      <td>Rose Pink</td>\n",
       "      <td>3</td>\n",
       "      <td>3</td>\n",
       "      <td>2014</td>\n",
       "      <td>$10000.00</td>\n",
       "      <td>$5000.00</td>\n",
       "      <td>-50.00%</td>\n",
       "      <td>Y</td>\n",
       "      <td>Pass</td>\n",
       "    </tr>\n",
       "  </tbody>\n",
       "</table>\n",
       "</div>"
      ],
      "text/plain": [
       "   Student ID Student Name  Month  Day  Year 2018 tuition 2019 tuition  \\\n",
       "0       10002   John Black     10   12  2018    $40000.00    $50000.00   \n",
       "1      552278   Mark White      4   15  2017     $9200.00    $10120.00   \n",
       "2       23477      Amy Red      5   14  2016    $50000.00    $62500.00   \n",
       "3       24900    Tom Green      7   10  2015     $7000.00     $9800.00   \n",
       "4      651029    Rose Pink      3    3  2014    $10000.00     $5000.00   \n",
       "\n",
       "  Percent Growth Paid DSC 80 Final Grade  \n",
       "0         25.00%    N                 89  \n",
       "1         10.00%    Y                 90  \n",
       "2         25.00%    N                 97  \n",
       "3         40.00%    Y                 54  \n",
       "4        -50.00%    Y               Pass  "
      ]
     },
     "execution_count": 7,
     "metadata": {},
     "output_type": "execute_result"
    }
   ],
   "source": [
    "df['Student ID'] = df['Student ID'].astype(np.int64)\n",
    "df"
   ]
  },
  {
   "cell_type": "markdown",
   "metadata": {
    "slideshow": {
     "slide_type": "slide"
    }
   },
   "source": [
    "### Cleaning up: `20xx tuition`\n",
    "\n",
    "* `20xx tuition` are stored as `objects` (strings), not numerical values.\n",
    "* The formatting character ($) causes the entries to be interpreted as strings.\n",
    "* Use `str` methods to strip the dollar sign."
   ]
  },
  {
   "cell_type": "code",
   "execution_count": 8,
   "metadata": {},
   "outputs": [
    {
     "ename": "ValueError",
     "evalue": "could not convert string to float: '$40000.00'",
     "output_type": "error",
     "traceback": [
      "\u001b[0;31m---------------------------------------------------------------------------\u001b[0m",
      "\u001b[0;31mValueError\u001b[0m                                Traceback (most recent call last)",
      "\u001b[0;32m<ipython-input-8-220ad76d43d6>\u001b[0m in \u001b[0;36m<module>\u001b[0;34m\u001b[0m\n\u001b[1;32m      1\u001b[0m \u001b[0;31m# try this!\u001b[0m\u001b[0;34m\u001b[0m\u001b[0;34m\u001b[0m\u001b[0;34m\u001b[0m\u001b[0m\n\u001b[0;32m----> 2\u001b[0;31m \u001b[0mdf\u001b[0m\u001b[0;34m[\u001b[0m\u001b[0;34m'2018 tuition'\u001b[0m\u001b[0;34m]\u001b[0m\u001b[0;34m.\u001b[0m\u001b[0mastype\u001b[0m\u001b[0;34m(\u001b[0m\u001b[0mnp\u001b[0m\u001b[0;34m.\u001b[0m\u001b[0mfloat64\u001b[0m\u001b[0;34m)\u001b[0m\u001b[0;34m\u001b[0m\u001b[0;34m\u001b[0m\u001b[0m\n\u001b[0m",
      "\u001b[0;32m~/anaconda3/lib/python3.7/site-packages/pandas/util/_decorators.py\u001b[0m in \u001b[0;36mwrapper\u001b[0;34m(*args, **kwargs)\u001b[0m\n\u001b[1;32m    176\u001b[0m                 \u001b[0;32melse\u001b[0m\u001b[0;34m:\u001b[0m\u001b[0;34m\u001b[0m\u001b[0;34m\u001b[0m\u001b[0m\n\u001b[1;32m    177\u001b[0m                     \u001b[0mkwargs\u001b[0m\u001b[0;34m[\u001b[0m\u001b[0mnew_arg_name\u001b[0m\u001b[0;34m]\u001b[0m \u001b[0;34m=\u001b[0m \u001b[0mnew_arg_value\u001b[0m\u001b[0;34m\u001b[0m\u001b[0;34m\u001b[0m\u001b[0m\n\u001b[0;32m--> 178\u001b[0;31m             \u001b[0;32mreturn\u001b[0m \u001b[0mfunc\u001b[0m\u001b[0;34m(\u001b[0m\u001b[0;34m*\u001b[0m\u001b[0margs\u001b[0m\u001b[0;34m,\u001b[0m \u001b[0;34m**\u001b[0m\u001b[0mkwargs\u001b[0m\u001b[0;34m)\u001b[0m\u001b[0;34m\u001b[0m\u001b[0;34m\u001b[0m\u001b[0m\n\u001b[0m\u001b[1;32m    179\u001b[0m         \u001b[0;32mreturn\u001b[0m \u001b[0mwrapper\u001b[0m\u001b[0;34m\u001b[0m\u001b[0;34m\u001b[0m\u001b[0m\n\u001b[1;32m    180\u001b[0m     \u001b[0;32mreturn\u001b[0m \u001b[0m_deprecate_kwarg\u001b[0m\u001b[0;34m\u001b[0m\u001b[0;34m\u001b[0m\u001b[0m\n",
      "\u001b[0;32m~/anaconda3/lib/python3.7/site-packages/pandas/core/generic.py\u001b[0m in \u001b[0;36mastype\u001b[0;34m(self, dtype, copy, errors, **kwargs)\u001b[0m\n\u001b[1;32m   4999\u001b[0m             \u001b[0;31m# else, only a single dtype is given\u001b[0m\u001b[0;34m\u001b[0m\u001b[0;34m\u001b[0m\u001b[0;34m\u001b[0m\u001b[0m\n\u001b[1;32m   5000\u001b[0m             new_data = self._data.astype(dtype=dtype, copy=copy, errors=errors,\n\u001b[0;32m-> 5001\u001b[0;31m                                          **kwargs)\n\u001b[0m\u001b[1;32m   5002\u001b[0m             \u001b[0;32mreturn\u001b[0m \u001b[0mself\u001b[0m\u001b[0;34m.\u001b[0m\u001b[0m_constructor\u001b[0m\u001b[0;34m(\u001b[0m\u001b[0mnew_data\u001b[0m\u001b[0;34m)\u001b[0m\u001b[0;34m.\u001b[0m\u001b[0m__finalize__\u001b[0m\u001b[0;34m(\u001b[0m\u001b[0mself\u001b[0m\u001b[0;34m)\u001b[0m\u001b[0;34m\u001b[0m\u001b[0;34m\u001b[0m\u001b[0m\n\u001b[1;32m   5003\u001b[0m \u001b[0;34m\u001b[0m\u001b[0m\n",
      "\u001b[0;32m~/anaconda3/lib/python3.7/site-packages/pandas/core/internals.py\u001b[0m in \u001b[0;36mastype\u001b[0;34m(self, dtype, **kwargs)\u001b[0m\n\u001b[1;32m   3712\u001b[0m \u001b[0;34m\u001b[0m\u001b[0m\n\u001b[1;32m   3713\u001b[0m     \u001b[0;32mdef\u001b[0m \u001b[0mastype\u001b[0m\u001b[0;34m(\u001b[0m\u001b[0mself\u001b[0m\u001b[0;34m,\u001b[0m \u001b[0mdtype\u001b[0m\u001b[0;34m,\u001b[0m \u001b[0;34m**\u001b[0m\u001b[0mkwargs\u001b[0m\u001b[0;34m)\u001b[0m\u001b[0;34m:\u001b[0m\u001b[0;34m\u001b[0m\u001b[0;34m\u001b[0m\u001b[0m\n\u001b[0;32m-> 3714\u001b[0;31m         \u001b[0;32mreturn\u001b[0m \u001b[0mself\u001b[0m\u001b[0;34m.\u001b[0m\u001b[0mapply\u001b[0m\u001b[0;34m(\u001b[0m\u001b[0;34m'astype'\u001b[0m\u001b[0;34m,\u001b[0m \u001b[0mdtype\u001b[0m\u001b[0;34m=\u001b[0m\u001b[0mdtype\u001b[0m\u001b[0;34m,\u001b[0m \u001b[0;34m**\u001b[0m\u001b[0mkwargs\u001b[0m\u001b[0;34m)\u001b[0m\u001b[0;34m\u001b[0m\u001b[0;34m\u001b[0m\u001b[0m\n\u001b[0m\u001b[1;32m   3715\u001b[0m \u001b[0;34m\u001b[0m\u001b[0m\n\u001b[1;32m   3716\u001b[0m     \u001b[0;32mdef\u001b[0m \u001b[0mconvert\u001b[0m\u001b[0;34m(\u001b[0m\u001b[0mself\u001b[0m\u001b[0;34m,\u001b[0m \u001b[0;34m**\u001b[0m\u001b[0mkwargs\u001b[0m\u001b[0;34m)\u001b[0m\u001b[0;34m:\u001b[0m\u001b[0;34m\u001b[0m\u001b[0;34m\u001b[0m\u001b[0m\n",
      "\u001b[0;32m~/anaconda3/lib/python3.7/site-packages/pandas/core/internals.py\u001b[0m in \u001b[0;36mapply\u001b[0;34m(self, f, axes, filter, do_integrity_check, consolidate, **kwargs)\u001b[0m\n\u001b[1;32m   3579\u001b[0m \u001b[0;34m\u001b[0m\u001b[0m\n\u001b[1;32m   3580\u001b[0m             \u001b[0mkwargs\u001b[0m\u001b[0;34m[\u001b[0m\u001b[0;34m'mgr'\u001b[0m\u001b[0;34m]\u001b[0m \u001b[0;34m=\u001b[0m \u001b[0mself\u001b[0m\u001b[0;34m\u001b[0m\u001b[0;34m\u001b[0m\u001b[0m\n\u001b[0;32m-> 3581\u001b[0;31m             \u001b[0mapplied\u001b[0m \u001b[0;34m=\u001b[0m \u001b[0mgetattr\u001b[0m\u001b[0;34m(\u001b[0m\u001b[0mb\u001b[0m\u001b[0;34m,\u001b[0m \u001b[0mf\u001b[0m\u001b[0;34m)\u001b[0m\u001b[0;34m(\u001b[0m\u001b[0;34m**\u001b[0m\u001b[0mkwargs\u001b[0m\u001b[0;34m)\u001b[0m\u001b[0;34m\u001b[0m\u001b[0;34m\u001b[0m\u001b[0m\n\u001b[0m\u001b[1;32m   3582\u001b[0m             \u001b[0mresult_blocks\u001b[0m \u001b[0;34m=\u001b[0m \u001b[0m_extend_blocks\u001b[0m\u001b[0;34m(\u001b[0m\u001b[0mapplied\u001b[0m\u001b[0;34m,\u001b[0m \u001b[0mresult_blocks\u001b[0m\u001b[0;34m)\u001b[0m\u001b[0;34m\u001b[0m\u001b[0;34m\u001b[0m\u001b[0m\n\u001b[1;32m   3583\u001b[0m \u001b[0;34m\u001b[0m\u001b[0m\n",
      "\u001b[0;32m~/anaconda3/lib/python3.7/site-packages/pandas/core/internals.py\u001b[0m in \u001b[0;36mastype\u001b[0;34m(self, dtype, copy, errors, values, **kwargs)\u001b[0m\n\u001b[1;32m    573\u001b[0m     \u001b[0;32mdef\u001b[0m \u001b[0mastype\u001b[0m\u001b[0;34m(\u001b[0m\u001b[0mself\u001b[0m\u001b[0;34m,\u001b[0m \u001b[0mdtype\u001b[0m\u001b[0;34m,\u001b[0m \u001b[0mcopy\u001b[0m\u001b[0;34m=\u001b[0m\u001b[0;32mFalse\u001b[0m\u001b[0;34m,\u001b[0m \u001b[0merrors\u001b[0m\u001b[0;34m=\u001b[0m\u001b[0;34m'raise'\u001b[0m\u001b[0;34m,\u001b[0m \u001b[0mvalues\u001b[0m\u001b[0;34m=\u001b[0m\u001b[0;32mNone\u001b[0m\u001b[0;34m,\u001b[0m \u001b[0;34m**\u001b[0m\u001b[0mkwargs\u001b[0m\u001b[0;34m)\u001b[0m\u001b[0;34m:\u001b[0m\u001b[0;34m\u001b[0m\u001b[0;34m\u001b[0m\u001b[0m\n\u001b[1;32m    574\u001b[0m         return self._astype(dtype, copy=copy, errors=errors, values=values,\n\u001b[0;32m--> 575\u001b[0;31m                             **kwargs)\n\u001b[0m\u001b[1;32m    576\u001b[0m \u001b[0;34m\u001b[0m\u001b[0m\n\u001b[1;32m    577\u001b[0m     def _astype(self, dtype, copy=False, errors='raise', values=None,\n",
      "\u001b[0;32m~/anaconda3/lib/python3.7/site-packages/pandas/core/internals.py\u001b[0m in \u001b[0;36m_astype\u001b[0;34m(self, dtype, copy, errors, values, klass, mgr, **kwargs)\u001b[0m\n\u001b[1;32m    662\u001b[0m \u001b[0;34m\u001b[0m\u001b[0m\n\u001b[1;32m    663\u001b[0m                 \u001b[0;31m# _astype_nansafe works fine with 1-d only\u001b[0m\u001b[0;34m\u001b[0m\u001b[0;34m\u001b[0m\u001b[0;34m\u001b[0m\u001b[0m\n\u001b[0;32m--> 664\u001b[0;31m                 \u001b[0mvalues\u001b[0m \u001b[0;34m=\u001b[0m \u001b[0mastype_nansafe\u001b[0m\u001b[0;34m(\u001b[0m\u001b[0mvalues\u001b[0m\u001b[0;34m.\u001b[0m\u001b[0mravel\u001b[0m\u001b[0;34m(\u001b[0m\u001b[0;34m)\u001b[0m\u001b[0;34m,\u001b[0m \u001b[0mdtype\u001b[0m\u001b[0;34m,\u001b[0m \u001b[0mcopy\u001b[0m\u001b[0;34m=\u001b[0m\u001b[0;32mTrue\u001b[0m\u001b[0;34m)\u001b[0m\u001b[0;34m\u001b[0m\u001b[0;34m\u001b[0m\u001b[0m\n\u001b[0m\u001b[1;32m    665\u001b[0m                 \u001b[0mvalues\u001b[0m \u001b[0;34m=\u001b[0m \u001b[0mvalues\u001b[0m\u001b[0;34m.\u001b[0m\u001b[0mreshape\u001b[0m\u001b[0;34m(\u001b[0m\u001b[0mself\u001b[0m\u001b[0;34m.\u001b[0m\u001b[0mshape\u001b[0m\u001b[0;34m)\u001b[0m\u001b[0;34m\u001b[0m\u001b[0;34m\u001b[0m\u001b[0m\n\u001b[1;32m    666\u001b[0m \u001b[0;34m\u001b[0m\u001b[0m\n",
      "\u001b[0;32m~/anaconda3/lib/python3.7/site-packages/pandas/core/dtypes/cast.py\u001b[0m in \u001b[0;36mastype_nansafe\u001b[0;34m(arr, dtype, copy)\u001b[0m\n\u001b[1;32m    728\u001b[0m \u001b[0;34m\u001b[0m\u001b[0m\n\u001b[1;32m    729\u001b[0m     \u001b[0;32mif\u001b[0m \u001b[0mcopy\u001b[0m\u001b[0;34m:\u001b[0m\u001b[0;34m\u001b[0m\u001b[0;34m\u001b[0m\u001b[0m\n\u001b[0;32m--> 730\u001b[0;31m         \u001b[0;32mreturn\u001b[0m \u001b[0marr\u001b[0m\u001b[0;34m.\u001b[0m\u001b[0mastype\u001b[0m\u001b[0;34m(\u001b[0m\u001b[0mdtype\u001b[0m\u001b[0;34m,\u001b[0m \u001b[0mcopy\u001b[0m\u001b[0;34m=\u001b[0m\u001b[0;32mTrue\u001b[0m\u001b[0;34m)\u001b[0m\u001b[0;34m\u001b[0m\u001b[0;34m\u001b[0m\u001b[0m\n\u001b[0m\u001b[1;32m    731\u001b[0m     \u001b[0;32mreturn\u001b[0m \u001b[0marr\u001b[0m\u001b[0;34m.\u001b[0m\u001b[0mview\u001b[0m\u001b[0;34m(\u001b[0m\u001b[0mdtype\u001b[0m\u001b[0;34m)\u001b[0m\u001b[0;34m\u001b[0m\u001b[0;34m\u001b[0m\u001b[0m\n\u001b[1;32m    732\u001b[0m \u001b[0;34m\u001b[0m\u001b[0m\n",
      "\u001b[0;31mValueError\u001b[0m: could not convert string to float: '$40000.00'"
     ]
    }
   ],
   "source": [
    "# try this!\n",
    "df['2018 tuition'].astype(np.float64)"
   ]
  },
  {
   "cell_type": "code",
   "execution_count": null,
   "metadata": {},
   "outputs": [],
   "source": [
    "# strip the $\n",
    "df['2018 tuition'].str.strip('$').astype(np.float64)"
   ]
  },
  {
   "cell_type": "code",
   "execution_count": null,
   "metadata": {},
   "outputs": [],
   "source": [
    "# looping through *columns* is ok! don't loop through rows.\n",
    "\n",
    "for col in df.columns:\n",
    "    if 'tuition' in col:\n",
    "        df[col] = df[col].str.strip('$').astype(np.float64)\n",
    "        \n",
    "df"
   ]
  },
  {
   "cell_type": "markdown",
   "metadata": {
    "slideshow": {
     "slide_type": "slide"
    }
   },
   "source": [
    "### Cleaning up: `Paid`\n",
    "\n",
    "* The `Paid` column should be either `bool` type, or {0,1}.\n",
    "* Y/N typical values from human entry.\n",
    "* Use the `replace` method."
   ]
  },
  {
   "cell_type": "code",
   "execution_count": null,
   "metadata": {},
   "outputs": [],
   "source": [
    "df['Paid'] = df['Paid'].replace({'Y': True, 'N': False})\n",
    "df"
   ]
  },
  {
   "cell_type": "markdown",
   "metadata": {
    "slideshow": {
     "slide_type": "slide"
    }
   },
   "source": [
    "### Cleaning up: `Month, Day, and Year`\n",
    "* Each are `int64` types; this could be *fine* for certain purposes.\n",
    "* Could store as `objects` of the form `Year-Month-Day`\n",
    "    - String sorting coincides with date sorting\n",
    "* Could store as `datetime64` objects (later)."
   ]
  },
  {
   "cell_type": "code",
   "execution_count": null,
   "metadata": {},
   "outputs": [],
   "source": [
    "# What is happening with adding a Series and a string? (Broadcasting)\n",
    "(\n",
    "    df['Year'].astype(str) + '-' + \n",
    "    df['Month'].astype(str).str.zfill(2) + '-' + \n",
    "    df['Day'].astype(str).str.zfill(2)\n",
    ")"
   ]
  },
  {
   "cell_type": "markdown",
   "metadata": {
    "slideshow": {
     "slide_type": "slide"
    }
   },
   "source": [
    "### Cleaning up: `DSC 80 Final Grade`\n",
    "\n",
    "* `DSC 80 Final Grade` stored as an object.\n",
    "    - most entries should be numeric;\n",
    "    - final entry cannot be converted.\n",
    "* Can use `pd.to_numeric(Series, errors='coerce')`.\n",
    "    - Be careful with this!\n",
    "    - `errors='coerce'` can cause uninformed destruction of data."
   ]
  },
  {
   "cell_type": "code",
   "execution_count": null,
   "metadata": {},
   "outputs": [],
   "source": [
    "# try: astype\n",
    "df"
   ]
  },
  {
   "cell_type": "code",
   "execution_count": null,
   "metadata": {},
   "outputs": [],
   "source": [
    "df['DSC 80 Final Grade'] = pd.to_numeric(df['DSC 80 Final Grade'], errors='coerce')\n",
    "df"
   ]
  },
  {
   "cell_type": "markdown",
   "metadata": {
    "slideshow": {
     "slide_type": "slide"
    }
   },
   "source": [
    "### Cleaning up: `Student Name`\n",
    "* Need the `Student Name` column to have form **Last Name, First Name**.\n",
    "* Use a custom function and the `apply` method.\n",
    "    - `Series.apply(func)` applies the function `func` to each entry of `Series`."
   ]
  },
  {
   "cell_type": "code",
   "execution_count": null,
   "metadata": {},
   "outputs": [],
   "source": [
    "df['Student Name']"
   ]
  },
  {
   "cell_type": "code",
   "execution_count": null,
   "metadata": {},
   "outputs": [],
   "source": [
    "def transpose_name(name):\n",
    "    firstname, lastname = name.split()\n",
    "    return lastname + ', ' + firstname\n",
    "\n",
    "transpose_name('Aaron Fraenkel')"
   ]
  },
  {
   "cell_type": "code",
   "execution_count": null,
   "metadata": {},
   "outputs": [],
   "source": [
    "df['Student Name'].apply(transpose_name)"
   ]
  },
  {
   "cell_type": "markdown",
   "metadata": {
    "slideshow": {
     "slide_type": "slide"
    }
   },
   "source": [
    "### More data type ambiguities\n",
    "\n",
    "<div class=\"image-txt-container\">\n",
    "\n",
    "1. 1537660383 looks like a number, but is probably a date (Unix timestamp)\n",
    "\n",
    "2. \"USD 1,000,000\" looks like a string, but is actually a number and a unit.\n",
    "\n",
    "3. 02111 looks like a number, but is really a zip code (and isn't equal to 2,111)\n",
    "\n",
    "<img src=\"imgs/image_3.png\"/>\n",
    "\n",
    "</div>"
   ]
  },
  {
   "cell_type": "markdown",
   "metadata": {
    "slideshow": {
     "slide_type": "slide"
    }
   },
   "source": [
    "## How well does the data capture \"reality\"\n",
    "\n",
    "* Does my data contain unrealistic or \"incorrect\" values?\n",
    "    - Dates in the future for events in the past\n",
    "    - Locations that don't exist\n",
    "    - Negative counts\n",
    "    - Misspellings of names\n",
    "    - Large outliers\n"
   ]
  },
  {
   "cell_type": "markdown",
   "metadata": {
    "slideshow": {
     "slide_type": "slide"
    }
   },
   "source": [
    "## How well does the data capture \"reality\"\n",
    "\n",
    "    \n",
    "* Does my data violate obvious dependencies?\n",
    "    - E.g., age and birthday don't match \n",
    "    \n",
    "\n",
    "* Was the data entered by hand?\n",
    "     - Spelling errors, fields shifted …\n",
    "     - Did the form require fields or provide default values?\n",
    "     \n",
    "* Are there obvious signs of curb stoning (data falsification):\n",
    "    - Repeated names, fake looking email addresses, repeated use of uncommon names or fields."
   ]
  },
  {
   "cell_type": "markdown",
   "metadata": {
    "slideshow": {
     "slide_type": "slide"
    }
   },
   "source": [
    "# Vehicle Stop Data. Practical Example\n",
    "\n",
    "## Data Source\n",
    "\n",
    "<img src=\"imgs/image_4.png\"/>\n"
   ]
  },
  {
   "cell_type": "markdown",
   "metadata": {
    "slideshow": {
     "slide_type": "slide"
    }
   },
   "source": [
    "# Police Vehicle Stops\n",
    "\n",
    "Vehicle stops made by the San Diego Police Department. \n",
    "\n",
    "Vehicle Stops files contain all vehicle stops for a given year.\n",
    "\n",
    "<img src=\"imgs/image_5.png\"/>"
   ]
  },
  {
   "cell_type": "markdown",
   "metadata": {
    "slideshow": {
     "slide_type": "slide"
    }
   },
   "source": [
    "# SDPD Vehicle Stop Data\n",
    "\n",
    "\n",
    "### Identifying messy data, general questions. \n",
    "\n",
    "1. Check the data types, notice any issues? What should we do?\n",
    "2. String type fields have consistent values?\n",
    "3. No missing values that we don't understand?\n",
    "4. Are all values look in a reasonable range?\n",
    "5. How do we deal with the messiness we found?"
   ]
  },
  {
   "cell_type": "code",
   "execution_count": null,
   "metadata": {},
   "outputs": [],
   "source": [
    "fp = os.path.join('data', 'Vehicle_stops_2016_datasd.csv')\n",
    "stops = pd.read_csv(fp)\n",
    "stops.head()"
   ]
  },
  {
   "cell_type": "markdown",
   "metadata": {
    "slideshow": {
     "slide_type": "slide"
    }
   },
   "source": [
    "### SDPD vehicle stops: data types\n",
    "* Are the data types correct?\n",
    "* Are they easily fixable?"
   ]
  },
  {
   "cell_type": "code",
   "execution_count": null,
   "metadata": {},
   "outputs": [],
   "source": [
    "# are the data types correct? How to fix them?\n",
    "stops.info()"
   ]
  },
  {
   "cell_type": "markdown",
   "metadata": {
    "slideshow": {
     "slide_type": "slide"
    }
   },
   "source": [
    "### SDPD vehicle stops: unfaithfulness\n",
    "* Are there suspicious values?\n",
    "* If a value is suspicious, can we trust the observation?\n",
    "* Age: Nonsensical? Too old? Too young?"
   ]
  },
  {
   "cell_type": "code",
   "execution_count": null,
   "metadata": {},
   "outputs": [],
   "source": [
    "stops['subject_age'].unique()"
   ]
  },
  {
   "cell_type": "code",
   "execution_count": null,
   "metadata": {},
   "outputs": [],
   "source": [
    "ages = pd.to_numeric(stops['subject_age'], errors='coerce')\n",
    "ages.head()"
   ]
  },
  {
   "cell_type": "code",
   "execution_count": null,
   "metadata": {},
   "outputs": [],
   "source": [
    "ages.describe()"
   ]
  },
  {
   "cell_type": "code",
   "execution_count": null,
   "metadata": {},
   "outputs": [],
   "source": [
    "# drop the rows? change age value to null? Is there really a 220 year old? (investigate!)\n",
    "stops[(ages > 100)]"
   ]
  },
  {
   "cell_type": "code",
   "execution_count": null,
   "metadata": {},
   "outputs": [],
   "source": [
    "ages.loc[lambda x:(0<=x) & (x<16)].value_counts()"
   ]
  },
  {
   "cell_type": "code",
   "execution_count": null,
   "metadata": {},
   "outputs": [],
   "source": [
    "stops[(0 < ages) & (ages < 16)]"
   ]
  },
  {
   "cell_type": "markdown",
   "metadata": {
    "slideshow": {
     "slide_type": "slide"
    }
   },
   "source": [
    "### SDPD data: unfaithful `subject_age`\n",
    "\n",
    "* Values of 'No Age' and 0 likely explicit null values\n",
    "* Unusually small/large ages errors in data entry?\n",
    "    - Rest of record is well formed.\n",
    "* Hard to tell for ages 14,15.\n",
    "    - Each has more than one occurance; possibly real?"
   ]
  },
  {
   "cell_type": "markdown",
   "metadata": {
    "slideshow": {
     "slide_type": "slide"
    }
   },
   "source": [
    "### SDPD vehicle stops: human entered data\n",
    "* Which fields were likely entered by a human?\n",
    "* Which fields were likely generated by code?\n",
    "    - what was the original source?"
   ]
  },
  {
   "cell_type": "code",
   "execution_count": null,
   "metadata": {},
   "outputs": [],
   "source": [
    "# stop cause\n",
    "stops.stop_cause.value_counts()"
   ]
  },
  {
   "cell_type": "code",
   "execution_count": null,
   "metadata": {},
   "outputs": [],
   "source": [
    "# age distribution -- reasonable ages (e.g. 15-85)\n",
    "ages.loc[lambda x:(x > 15) & (x<=85)].plot(kind='hist', bins=70)"
   ]
  },
  {
   "cell_type": "code",
   "execution_count": null,
   "metadata": {},
   "outputs": [],
   "source": [
    "# computer generated?\n",
    "stops[['timestamp', 'stop_date', 'stop_time']].head()"
   ]
  },
  {
   "cell_type": "code",
   "execution_count": null,
   "metadata": {},
   "outputs": [],
   "source": [
    "stops[['timestamp', 'stop_date', 'stop_time']].tail(10)"
   ]
  },
  {
   "cell_type": "markdown",
   "metadata": {
    "slideshow": {
     "slide_type": "slide"
    }
   },
   "source": [
    "## Unfaithful data vs Outliers\n",
    "\n",
    "* Unfaithful data are data that doesn't accurately represent the data generating processing being measured.\n",
    "* Outliers are \"ununsual\" observations, unlike the rest of the data. They may be unfaithful, but they may be real (and interesting) as well! \n",
    "* The two are hard to tell apart; doing so often requires research."
   ]
  },
  {
   "cell_type": "markdown",
   "metadata": {
    "slideshow": {
     "slide_type": "slide"
    }
   },
   "source": [
    "# Outliers\n",
    "\n",
    "* **Consistently \"nonsense\" values**\n",
    "    - Is it a product of the data ingestion process? Time field has year 1899? Is it an inferred “default” value?\n",
    "    - Solution: Change the value to the correct one!\n",
    "    \n",
    "* **Abnormal artifacts from the data collection process**\n",
    "    - E.g. unreasonable spikes in recorded ages at round numbers (25, 35, 45)\n",
    "    - Solution: Try \"smoothing\" (e.g. binning the ages)\n",
    "        \n",
    "* **Unreasonable outliers**\n",
    "    - Data points with unrealistic and highly unreasonable values. E.g. age = 200\n",
    "    - Solution: filter it? Maybe it points to bugs in the data collection? Maybe it's real and you should investigate!"
   ]
  },
  {
   "cell_type": "markdown",
   "metadata": {
    "slideshow": {
     "slide_type": "slide"
    }
   },
   "source": [
    "# Missing Values"
   ]
  },
  {
   "cell_type": "markdown",
   "metadata": {
    "slideshow": {
     "slide_type": "slide"
    }
   },
   "source": [
    "## Many reasons for missing values\n",
    "\n",
    "* Missing values in a dataset can occur from:\n",
    "    - Intentional logic, where a value doesn't make sense.\n",
    "    - A non-response in the measurement process.\n",
    "    - Mistakes in the recording process\n",
    "    - ...\n",
    "    \n",
    "* Missing values are most often encoded with:\n",
    "    - `NULL`, `None`, `NaN`, `\"\"`"
   ]
  },
  {
   "cell_type": "markdown",
   "metadata": {
    "slideshow": {
     "slide_type": "slide"
    }
   },
   "source": [
    "## Missing values come in many forms\n",
    "\n",
    "* Missing values can appear as 'placeholder' values:\n",
    "    - All forms of `0` are a common substitute for null.\n",
    "    - -1 is column if a column must be non-negative.\n",
    "    - 1900 and 1970 if a nonnull date is required."
   ]
  },
  {
   "cell_type": "markdown",
   "metadata": {
    "slideshow": {
     "slide_type": "slide"
    }
   },
   "source": [
    "## Missing values come in many forms\n",
    "\n",
    "<div class=\"image-txt-container\">\n",
    "    \n",
    "* These 'Missing Values' may be possible 'real' values!\n",
    "* \"Null Island\" at 0°00'00.0\"N+0°00'00.0\"E\n",
    "    - Null Island a popular jogging location on Strava fitness tracking app.\n",
    "    - https://en.wikipedia.org/wiki/Null_Island\n",
    "\n",
    "<img src=\"imgs/image_6.png\"/>\n",
    "\n",
    "</div>"
   ]
  },
  {
   "cell_type": "markdown",
   "metadata": {
    "slideshow": {
     "slide_type": "slide"
    }
   },
   "source": [
    "### Messy missingness in vehicle stops data\n",
    "* What are the non-`NaN` null values in the SDPD data?\n",
    "    - Service Area: 'Unknown'\n",
    "    - Subject Age: 0\n",
    "    - Others?"
   ]
  },
  {
   "cell_type": "markdown",
   "metadata": {
    "slideshow": {
     "slide_type": "slide"
    }
   },
   "source": [
    "## Handling null values in Pandas\n",
    "\n",
    "* Null values are encoded using NumPy's `NaN` object, which is of float type.\n",
    "* Method `.isnull()` for DataFrame/Series detects missing values.\n",
    "    - returns a boolean DataFrame/Series!\n",
    "* Methods `.dropna()` and `.fillna()` handle missing data."
   ]
  },
  {
   "cell_type": "code",
   "execution_count": null,
   "metadata": {},
   "outputs": [],
   "source": [
    "# proportion of people without an age recorded\n",
    "stops.subject_age.isnull().mean()"
   ]
  },
  {
   "cell_type": "code",
   "execution_count": null,
   "metadata": {},
   "outputs": [],
   "source": [
    "# all columns null percentage\n",
    "stops.isnull().mean()"
   ]
  },
  {
   "cell_type": "markdown",
   "metadata": {},
   "source": [
    "### Handling null values: dropping observations\n",
    "* What happens if any row with a null value is dropped?\n",
    "* Best to not drop observations until it's needed!"
   ]
  },
  {
   "cell_type": "code",
   "execution_count": null,
   "metadata": {},
   "outputs": [],
   "source": [
    "stops.shape"
   ]
  },
  {
   "cell_type": "code",
   "execution_count": null,
   "metadata": {},
   "outputs": [],
   "source": [
    "stops.dropna().shape"
   ]
  },
  {
   "cell_type": "code",
   "execution_count": null,
   "metadata": {},
   "outputs": [],
   "source": [
    "# Percentage of dataset dropped:\n",
    "stops.isnull().any(axis=1).mean()"
   ]
  },
  {
   "cell_type": "markdown",
   "metadata": {
    "slideshow": {
     "slide_type": "slide"
    }
   },
   "source": [
    "### `.dropna` method\n",
    "\n",
    "* `.dropna()` drops rows containing *at least one* null value.\n",
    "* `.dropna(how='all')` drops any row that contains *only* null values.\n",
    "* `.dropna(axis=1)` drops *columns* containing at least one null value.\n",
    "* Other keyword arguments: `thresh`, `subset`"
   ]
  },
  {
   "cell_type": "code",
   "execution_count": null,
   "metadata": {},
   "outputs": [],
   "source": [
    "nans = pd.DataFrame([[0,1,np.NaN], [np.NaN, np.NaN, np.NaN], [1, 2, 3]])\n",
    "nans"
   ]
  },
  {
   "cell_type": "code",
   "execution_count": null,
   "metadata": {},
   "outputs": [],
   "source": [
    "nans.dropna(how='any')"
   ]
  },
  {
   "cell_type": "code",
   "execution_count": null,
   "metadata": {},
   "outputs": [],
   "source": [
    "nans.dropna(how='all')"
   ]
  },
  {
   "cell_type": "code",
   "execution_count": null,
   "metadata": {},
   "outputs": [],
   "source": [
    "nans.dropna(axis=1)"
   ]
  },
  {
   "cell_type": "code",
   "execution_count": null,
   "metadata": {},
   "outputs": [],
   "source": [
    "nans.dropna(subset=[0,1])"
   ]
  },
  {
   "cell_type": "markdown",
   "metadata": {},
   "source": [
    "### `.fillna` method\n",
    "\n",
    "* `.fillna(val)` fills null entries with value `val`.\n",
    "* `.fillna(dict)` fills null entries using a dictionary `dict` of column/row values.\n",
    "* `.fillna(method='ffill')` fills null entries using neighboring non-null values."
   ]
  },
  {
   "cell_type": "code",
   "execution_count": null,
   "metadata": {},
   "outputs": [],
   "source": [
    "nans"
   ]
  },
  {
   "cell_type": "code",
   "execution_count": null,
   "metadata": {},
   "outputs": [],
   "source": [
    "# fill with a fixed value\n",
    "nans.fillna(\"FILLED!\")"
   ]
  },
  {
   "cell_type": "code",
   "execution_count": null,
   "metadata": {},
   "outputs": [],
   "source": [
    "# fill using a column-dictionary\n",
    "nans.fillna({0:'f0', 1:'f1', 2:'f2'})"
   ]
  },
  {
   "cell_type": "code",
   "execution_count": null,
   "metadata": {},
   "outputs": [],
   "source": [
    "# fill with the column mean\n",
    "means = {c:nans[c].mean() for c in nans.columns}\n",
    "nans.fillna(means)"
   ]
  },
  {
   "cell_type": "code",
   "execution_count": null,
   "metadata": {},
   "outputs": [],
   "source": [
    "# backfill up columns\n",
    "nans.fillna(method='bfill')"
   ]
  },
  {
   "cell_type": "code",
   "execution_count": null,
   "metadata": {},
   "outputs": [],
   "source": [
    "# forward fill down columns\n",
    "nans.fillna(method='ffill')"
   ]
  },
  {
   "cell_type": "markdown",
   "metadata": {
    "slideshow": {
     "slide_type": "skip"
    }
   },
   "source": [
    "## Data Types and `NaN`\n",
    "\n",
    "* The result of *any* comparison (=,!=,<,>) with `NaN` is `False`.\n",
    "     - Use functions for checking null: `np.isnan`, `np.isnull`\n",
    "* `NaN` is of float-type.\n",
    "* Be careful of Pandas type-coercian with `NaN`!"
   ]
  },
  {
   "cell_type": "code",
   "execution_count": null,
   "metadata": {
    "slideshow": {
     "slide_type": "skip"
    }
   },
   "outputs": [],
   "source": [
    "for x in nans.iloc[0]:\n",
    "    if x == np.NaN:\n",
    "        print(\"it's NaN!\")\n",
    "    else:\n",
    "        print('nope!')"
   ]
  },
  {
   "cell_type": "code",
   "execution_count": null,
   "metadata": {
    "slideshow": {
     "slide_type": "skip"
    }
   },
   "outputs": [],
   "source": [
    "for x in nans.iloc[0]:\n",
    "    if np.isnan(x):\n",
    "        print(\"it's NaN!\")\n",
    "    else:\n",
    "        print('nope!')"
   ]
  },
  {
   "cell_type": "code",
   "execution_count": null,
   "metadata": {
    "slideshow": {
     "slide_type": "skip"
    }
   },
   "outputs": [],
   "source": [
    "# series with null: ints are cast as float\n",
    "nans = pd.Series([0,1,np.NaN])\n",
    "nnan = pd.Series([0,1,1])"
   ]
  },
  {
   "cell_type": "code",
   "execution_count": null,
   "metadata": {
    "slideshow": {
     "slide_type": "skip"
    }
   },
   "outputs": [],
   "source": [
    "# filled in: of float type\n",
    "nans.dtype, nan.dtype"
   ]
  }
 ],
 "metadata": {
  "celltoolbar": "Slideshow",
  "kernelspec": {
   "display_name": "Python 3",
   "language": "python",
   "name": "python3"
  },
  "language_info": {
   "codemirror_mode": {
    "name": "ipython",
    "version": 3
   },
   "file_extension": ".py",
   "mimetype": "text/x-python",
   "name": "python",
   "nbconvert_exporter": "python",
   "pygments_lexer": "ipython3",
   "version": "3.7.1"
  },
  "livereveal": {
   "scroll": true,
   "transition": "none"
  }
 },
 "nbformat": 4,
 "nbformat_minor": 2
}
